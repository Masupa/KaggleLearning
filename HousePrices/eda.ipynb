{
 "cells": [
  {
   "cell_type": "markdown",
   "id": "bc4eb2cd",
   "metadata": {},
   "source": [
    "**In this kernel, the following is what I will be doing:**\n",
    "\n",
    "    1. Understand the problem: We will look at each variable and do a philosophical analysis about their \n",
    "       meaning and importance for this problem\n",
    "    2. Univariable study. We'll just focus on the dependent variable ('SalePrice') and try to know a \n",
    "       little bit more about it.\n",
    "    3. Multivariate study. We'll try to understand how the dependent variable and independent variables relate.\n",
    "    4. Basic cleaning. We'll clean the dataset and handle the missing data, outliers and categorical variables.\n",
    "    5. Test assumptions. We'll check if our data meets the assumptions required by most multivariate techniques."
   ]
  },
  {
   "cell_type": "markdown",
   "id": "42648b76",
   "metadata": {},
   "source": [
    "**Import Packages**"
   ]
  },
  {
   "cell_type": "code",
   "execution_count": 1,
   "id": "5ba9777b",
   "metadata": {},
   "outputs": [],
   "source": [
    "import numpy as np\n",
    "import pandas as pd\n",
    "import seaborn as sns\n",
    "import matplotlib.pyplot as plt\n",
    "\n",
    "from scipy import stats\n",
    "\n",
    "import utils"
   ]
  },
  {
   "cell_type": "code",
   "execution_count": 2,
   "id": "0e054996",
   "metadata": {},
   "outputs": [],
   "source": [
    "%matplotlib inline"
   ]
  },
  {
   "cell_type": "markdown",
   "id": "8bfa177a",
   "metadata": {},
   "source": [
    "### Import Data"
   ]
  },
  {
   "cell_type": "code",
   "execution_count": 3,
   "id": "68a1d35d",
   "metadata": {},
   "outputs": [],
   "source": [
    "def wrangle_data(data_path):\n",
    "    \"\"\"Given a data - stored in a particular file-path - import\n",
    "    and manipulate data set for easier analysis\n",
    "    \n",
    "    Parameters:\n",
    "    -----------\n",
    "    data_path : str\n",
    "        File path to the data source\n",
    "        \n",
    "    Returns:\n",
    "    --------\n",
    "    df : pd.DataFrame\n",
    "        A pandas DataFrame\n",
    "    \"\"\"\n",
    "    \n",
    "    # Import data (from csv file)\n",
    "    df = pd.read_csv(data_path)\n",
    "    \n",
    "    \n",
    "    return df"
   ]
  },
  {
   "cell_type": "code",
   "execution_count": 4,
   "id": "fe6f2eac",
   "metadata": {},
   "outputs": [
    {
     "data": {
      "text/html": [
       "<div>\n",
       "<style scoped>\n",
       "    .dataframe tbody tr th:only-of-type {\n",
       "        vertical-align: middle;\n",
       "    }\n",
       "\n",
       "    .dataframe tbody tr th {\n",
       "        vertical-align: top;\n",
       "    }\n",
       "\n",
       "    .dataframe thead th {\n",
       "        text-align: right;\n",
       "    }\n",
       "</style>\n",
       "<table border=\"1\" class=\"dataframe\">\n",
       "  <thead>\n",
       "    <tr style=\"text-align: right;\">\n",
       "      <th></th>\n",
       "      <th>Id</th>\n",
       "      <th>MSSubClass</th>\n",
       "      <th>MSZoning</th>\n",
       "      <th>LotFrontage</th>\n",
       "      <th>LotArea</th>\n",
       "      <th>Street</th>\n",
       "      <th>Alley</th>\n",
       "      <th>LotShape</th>\n",
       "      <th>LandContour</th>\n",
       "      <th>Utilities</th>\n",
       "      <th>...</th>\n",
       "      <th>PoolArea</th>\n",
       "      <th>PoolQC</th>\n",
       "      <th>Fence</th>\n",
       "      <th>MiscFeature</th>\n",
       "      <th>MiscVal</th>\n",
       "      <th>MoSold</th>\n",
       "      <th>YrSold</th>\n",
       "      <th>SaleType</th>\n",
       "      <th>SaleCondition</th>\n",
       "      <th>SalePrice</th>\n",
       "    </tr>\n",
       "  </thead>\n",
       "  <tbody>\n",
       "    <tr>\n",
       "      <th>0</th>\n",
       "      <td>1</td>\n",
       "      <td>60</td>\n",
       "      <td>RL</td>\n",
       "      <td>65.0</td>\n",
       "      <td>8450</td>\n",
       "      <td>Pave</td>\n",
       "      <td>NaN</td>\n",
       "      <td>Reg</td>\n",
       "      <td>Lvl</td>\n",
       "      <td>AllPub</td>\n",
       "      <td>...</td>\n",
       "      <td>0</td>\n",
       "      <td>NaN</td>\n",
       "      <td>NaN</td>\n",
       "      <td>NaN</td>\n",
       "      <td>0</td>\n",
       "      <td>2</td>\n",
       "      <td>2008</td>\n",
       "      <td>WD</td>\n",
       "      <td>Normal</td>\n",
       "      <td>208500</td>\n",
       "    </tr>\n",
       "    <tr>\n",
       "      <th>1</th>\n",
       "      <td>2</td>\n",
       "      <td>20</td>\n",
       "      <td>RL</td>\n",
       "      <td>80.0</td>\n",
       "      <td>9600</td>\n",
       "      <td>Pave</td>\n",
       "      <td>NaN</td>\n",
       "      <td>Reg</td>\n",
       "      <td>Lvl</td>\n",
       "      <td>AllPub</td>\n",
       "      <td>...</td>\n",
       "      <td>0</td>\n",
       "      <td>NaN</td>\n",
       "      <td>NaN</td>\n",
       "      <td>NaN</td>\n",
       "      <td>0</td>\n",
       "      <td>5</td>\n",
       "      <td>2007</td>\n",
       "      <td>WD</td>\n",
       "      <td>Normal</td>\n",
       "      <td>181500</td>\n",
       "    </tr>\n",
       "    <tr>\n",
       "      <th>2</th>\n",
       "      <td>3</td>\n",
       "      <td>60</td>\n",
       "      <td>RL</td>\n",
       "      <td>68.0</td>\n",
       "      <td>11250</td>\n",
       "      <td>Pave</td>\n",
       "      <td>NaN</td>\n",
       "      <td>IR1</td>\n",
       "      <td>Lvl</td>\n",
       "      <td>AllPub</td>\n",
       "      <td>...</td>\n",
       "      <td>0</td>\n",
       "      <td>NaN</td>\n",
       "      <td>NaN</td>\n",
       "      <td>NaN</td>\n",
       "      <td>0</td>\n",
       "      <td>9</td>\n",
       "      <td>2008</td>\n",
       "      <td>WD</td>\n",
       "      <td>Normal</td>\n",
       "      <td>223500</td>\n",
       "    </tr>\n",
       "    <tr>\n",
       "      <th>3</th>\n",
       "      <td>4</td>\n",
       "      <td>70</td>\n",
       "      <td>RL</td>\n",
       "      <td>60.0</td>\n",
       "      <td>9550</td>\n",
       "      <td>Pave</td>\n",
       "      <td>NaN</td>\n",
       "      <td>IR1</td>\n",
       "      <td>Lvl</td>\n",
       "      <td>AllPub</td>\n",
       "      <td>...</td>\n",
       "      <td>0</td>\n",
       "      <td>NaN</td>\n",
       "      <td>NaN</td>\n",
       "      <td>NaN</td>\n",
       "      <td>0</td>\n",
       "      <td>2</td>\n",
       "      <td>2006</td>\n",
       "      <td>WD</td>\n",
       "      <td>Abnorml</td>\n",
       "      <td>140000</td>\n",
       "    </tr>\n",
       "    <tr>\n",
       "      <th>4</th>\n",
       "      <td>5</td>\n",
       "      <td>60</td>\n",
       "      <td>RL</td>\n",
       "      <td>84.0</td>\n",
       "      <td>14260</td>\n",
       "      <td>Pave</td>\n",
       "      <td>NaN</td>\n",
       "      <td>IR1</td>\n",
       "      <td>Lvl</td>\n",
       "      <td>AllPub</td>\n",
       "      <td>...</td>\n",
       "      <td>0</td>\n",
       "      <td>NaN</td>\n",
       "      <td>NaN</td>\n",
       "      <td>NaN</td>\n",
       "      <td>0</td>\n",
       "      <td>12</td>\n",
       "      <td>2008</td>\n",
       "      <td>WD</td>\n",
       "      <td>Normal</td>\n",
       "      <td>250000</td>\n",
       "    </tr>\n",
       "  </tbody>\n",
       "</table>\n",
       "<p>5 rows × 81 columns</p>\n",
       "</div>"
      ],
      "text/plain": [
       "   Id  MSSubClass MSZoning  LotFrontage  LotArea Street Alley LotShape  \\\n",
       "0   1          60       RL         65.0     8450   Pave   NaN      Reg   \n",
       "1   2          20       RL         80.0     9600   Pave   NaN      Reg   \n",
       "2   3          60       RL         68.0    11250   Pave   NaN      IR1   \n",
       "3   4          70       RL         60.0     9550   Pave   NaN      IR1   \n",
       "4   5          60       RL         84.0    14260   Pave   NaN      IR1   \n",
       "\n",
       "  LandContour Utilities  ... PoolArea PoolQC Fence MiscFeature MiscVal MoSold  \\\n",
       "0         Lvl    AllPub  ...        0    NaN   NaN         NaN       0      2   \n",
       "1         Lvl    AllPub  ...        0    NaN   NaN         NaN       0      5   \n",
       "2         Lvl    AllPub  ...        0    NaN   NaN         NaN       0      9   \n",
       "3         Lvl    AllPub  ...        0    NaN   NaN         NaN       0      2   \n",
       "4         Lvl    AllPub  ...        0    NaN   NaN         NaN       0     12   \n",
       "\n",
       "  YrSold  SaleType  SaleCondition  SalePrice  \n",
       "0   2008        WD         Normal     208500  \n",
       "1   2007        WD         Normal     181500  \n",
       "2   2008        WD         Normal     223500  \n",
       "3   2006        WD        Abnorml     140000  \n",
       "4   2008        WD         Normal     250000  \n",
       "\n",
       "[5 rows x 81 columns]"
      ]
     },
     "execution_count": 4,
     "metadata": {},
     "output_type": "execute_result"
    }
   ],
   "source": [
    "df = wrangle_data(\"data/train.csv\")\n",
    "df.head()"
   ]
  },
  {
   "cell_type": "markdown",
   "id": "0bf93d33",
   "metadata": {},
   "source": [
    "    How big is the data we are working with? How many observations and features (variables)\n",
    "    are in the dataset?\n",
    "    * 1,460 Observations\n",
    "    * 81 features (variables) 🤔 (How am I going to explore all these features?)"
   ]
  },
  {
   "cell_type": "code",
   "execution_count": 5,
   "id": "a5b8d1ae",
   "metadata": {},
   "outputs": [
    {
     "data": {
      "text/plain": [
       "(1460, 81)"
      ]
     },
     "execution_count": 5,
     "metadata": {},
     "output_type": "execute_result"
    }
   ],
   "source": [
    "df.shape"
   ]
  },
  {
   "cell_type": "markdown",
   "id": "6a0f376b",
   "metadata": {},
   "source": [
    "    What features (attributes) do we have? Are there any missing values?\n",
    "    What about their data-types?"
   ]
  },
  {
   "cell_type": "code",
   "execution_count": 6,
   "id": "b0272072",
   "metadata": {},
   "outputs": [
    {
     "name": "stdout",
     "output_type": "stream",
     "text": [
      "<class 'pandas.core.frame.DataFrame'>\n",
      "RangeIndex: 1460 entries, 0 to 1459\n",
      "Data columns (total 81 columns):\n",
      " #   Column         Non-Null Count  Dtype  \n",
      "---  ------         --------------  -----  \n",
      " 0   Id             1460 non-null   int64  \n",
      " 1   MSSubClass     1460 non-null   int64  \n",
      " 2   MSZoning       1460 non-null   object \n",
      " 3   LotFrontage    1201 non-null   float64\n",
      " 4   LotArea        1460 non-null   int64  \n",
      " 5   Street         1460 non-null   object \n",
      " 6   Alley          91 non-null     object \n",
      " 7   LotShape       1460 non-null   object \n",
      " 8   LandContour    1460 non-null   object \n",
      " 9   Utilities      1460 non-null   object \n",
      " 10  LotConfig      1460 non-null   object \n",
      " 11  LandSlope      1460 non-null   object \n",
      " 12  Neighborhood   1460 non-null   object \n",
      " 13  Condition1     1460 non-null   object \n",
      " 14  Condition2     1460 non-null   object \n",
      " 15  BldgType       1460 non-null   object \n",
      " 16  HouseStyle     1460 non-null   object \n",
      " 17  OverallQual    1460 non-null   int64  \n",
      " 18  OverallCond    1460 non-null   int64  \n",
      " 19  YearBuilt      1460 non-null   int64  \n",
      " 20  YearRemodAdd   1460 non-null   int64  \n",
      " 21  RoofStyle      1460 non-null   object \n",
      " 22  RoofMatl       1460 non-null   object \n",
      " 23  Exterior1st    1460 non-null   object \n",
      " 24  Exterior2nd    1460 non-null   object \n",
      " 25  MasVnrType     1452 non-null   object \n",
      " 26  MasVnrArea     1452 non-null   float64\n",
      " 27  ExterQual      1460 non-null   object \n",
      " 28  ExterCond      1460 non-null   object \n",
      " 29  Foundation     1460 non-null   object \n",
      " 30  BsmtQual       1423 non-null   object \n",
      " 31  BsmtCond       1423 non-null   object \n",
      " 32  BsmtExposure   1422 non-null   object \n",
      " 33  BsmtFinType1   1423 non-null   object \n",
      " 34  BsmtFinSF1     1460 non-null   int64  \n",
      " 35  BsmtFinType2   1422 non-null   object \n",
      " 36  BsmtFinSF2     1460 non-null   int64  \n",
      " 37  BsmtUnfSF      1460 non-null   int64  \n",
      " 38  TotalBsmtSF    1460 non-null   int64  \n",
      " 39  Heating        1460 non-null   object \n",
      " 40  HeatingQC      1460 non-null   object \n",
      " 41  CentralAir     1460 non-null   object \n",
      " 42  Electrical     1459 non-null   object \n",
      " 43  1stFlrSF       1460 non-null   int64  \n",
      " 44  2ndFlrSF       1460 non-null   int64  \n",
      " 45  LowQualFinSF   1460 non-null   int64  \n",
      " 46  GrLivArea      1460 non-null   int64  \n",
      " 47  BsmtFullBath   1460 non-null   int64  \n",
      " 48  BsmtHalfBath   1460 non-null   int64  \n",
      " 49  FullBath       1460 non-null   int64  \n",
      " 50  HalfBath       1460 non-null   int64  \n",
      " 51  BedroomAbvGr   1460 non-null   int64  \n",
      " 52  KitchenAbvGr   1460 non-null   int64  \n",
      " 53  KitchenQual    1460 non-null   object \n",
      " 54  TotRmsAbvGrd   1460 non-null   int64  \n",
      " 55  Functional     1460 non-null   object \n",
      " 56  Fireplaces     1460 non-null   int64  \n",
      " 57  FireplaceQu    770 non-null    object \n",
      " 58  GarageType     1379 non-null   object \n",
      " 59  GarageYrBlt    1379 non-null   float64\n",
      " 60  GarageFinish   1379 non-null   object \n",
      " 61  GarageCars     1460 non-null   int64  \n",
      " 62  GarageArea     1460 non-null   int64  \n",
      " 63  GarageQual     1379 non-null   object \n",
      " 64  GarageCond     1379 non-null   object \n",
      " 65  PavedDrive     1460 non-null   object \n",
      " 66  WoodDeckSF     1460 non-null   int64  \n",
      " 67  OpenPorchSF    1460 non-null   int64  \n",
      " 68  EnclosedPorch  1460 non-null   int64  \n",
      " 69  3SsnPorch      1460 non-null   int64  \n",
      " 70  ScreenPorch    1460 non-null   int64  \n",
      " 71  PoolArea       1460 non-null   int64  \n",
      " 72  PoolQC         7 non-null      object \n",
      " 73  Fence          281 non-null    object \n",
      " 74  MiscFeature    54 non-null     object \n",
      " 75  MiscVal        1460 non-null   int64  \n",
      " 76  MoSold         1460 non-null   int64  \n",
      " 77  YrSold         1460 non-null   int64  \n",
      " 78  SaleType       1460 non-null   object \n",
      " 79  SaleCondition  1460 non-null   object \n",
      " 80  SalePrice      1460 non-null   int64  \n",
      "dtypes: float64(3), int64(35), object(43)\n",
      "memory usage: 924.0+ KB\n"
     ]
    }
   ],
   "source": [
    "df.info()"
   ]
  },
  {
   "cell_type": "markdown",
   "id": "f76017bb",
   "metadata": {},
   "source": [
    "    In order to understand our data, we will look at each variable and try to understand its meaning\n",
    "    and relevance to this problem.\n",
    "    \n",
    "    In order to have some discipline in my analysis, I've adopted the idea of creating a spreadsheet\n",
    "    with the following columns:\n",
    "    \n",
    "    1. Variable: Variable name\n",
    "    2. Type: Variable's type; either `numerical` - int, float or `categorical` - for categorical values\n",
    "    3. Segment: Identification of the variable's segment. We define three possible segments: building, \n",
    "       space or location.\n",
    "    4. Expectation: Our expectation about the variable influence in `SalePrice.` We can define a categorical\n",
    "       scale of `High`, `Medium` or `Low`\n",
    "    5. Conclusion: Our conclusions about the importance of the variable, after we give a quick look at the\n",
    "       data. We can define a categorical scale of `High`, `Medium` or `Low`.\n",
    "    6. Comments: Any general comments"
   ]
  },
  {
   "cell_type": "markdown",
   "id": "d4d6e1ba",
   "metadata": {},
   "source": [
    "Analyst found here - [Spreadsheet](https://docs.google.com/spreadsheets/d/1HXOq9GMguCRamvw5YH8CQJececkYsrNYrpygL_pMJ3M/edit?usp=sharing)"
   ]
  },
  {
   "cell_type": "markdown",
   "id": "83320f7b",
   "metadata": {},
   "source": [
    "    After a subjective and research analysis of each variable's relevance to `SalePrice`,\n",
    "    I ended up with the following features:"
   ]
  },
  {
   "cell_type": "markdown",
   "id": "1c635b1c",
   "metadata": {},
   "source": [
    "|Feature|Expectation|Comments|\n",
    "|-------|-----------|-------|\n",
    "|MSZoning|High|We'd expect the zoning classification to incluenece the price of a house. E.g. With all otherfactors constant, a home in commercial zoning would be priced differently from that in industrail zoning.|\n",
    "|Neighborhood|High|Definitely, neighborhood affects the price of a house|\n",
    "|OverallQual|High|Overall material and finish of a house matters in pricing|\n",
    "|OverallCond|High|Overall condition matters in pricing too|\n",
    "|1stFlrSF|High|First floor area basically tells us how big the house is in surface area, therefore, it matters|\n",
    "|2ndFlrSF|High|Same as first floor area|\n",
    "|GrLivArea|High|Same as the 1stFlrSF and 2ndFlrSF|\n",
    "|HouseStyle|Medium|We'd expect a different in pricing between 1Story and 2Story building|\n",
    "|TotBsmtSF|Medium|With all other factors constant, a house with a bigger basement would be more expensive|\n",
    "|Bedroom|Medium|For obvious reasons, this matters|\n",
    "|GarageCars|Medium|A house with a garage that can have more cars might be pricy|\n",
    "|GarageArea|Medium|The bigger the garage area, the more cars can pack in it. There might be multi-collinearity here|\n",
    "|PoolArea|Medium|The presense of a swimming pool hicks the house price|\n",
    "|MiscFeature|Medium|Depending on the Misc Feature, the price might be influence or not|"
   ]
  },
  {
   "cell_type": "markdown",
   "id": "e56553a3",
   "metadata": {},
   "source": [
    "### Explore\n",
    "\n",
    "    First things first, we will perform `Univariate Analysis` to understand the dependent variable, `SalePrice`;\n",
    "    we want to understand the price range, as well as the central measures of tendency (min, mean, max prices).\n",
    "    We will want to understand the frequency distribution, how spread the prices are, etc."
   ]
  },
  {
   "cell_type": "markdown",
   "id": "cf5c21d8",
   "metadata": {},
   "source": [
    "**SalePrice**"
   ]
  },
  {
   "cell_type": "code",
   "execution_count": 7,
   "id": "c3d8bf3c",
   "metadata": {},
   "outputs": [
    {
     "data": {
      "text/html": [
       "<div>\n",
       "<style scoped>\n",
       "    .dataframe tbody tr th:only-of-type {\n",
       "        vertical-align: middle;\n",
       "    }\n",
       "\n",
       "    .dataframe tbody tr th {\n",
       "        vertical-align: top;\n",
       "    }\n",
       "\n",
       "    .dataframe thead th {\n",
       "        text-align: right;\n",
       "    }\n",
       "</style>\n",
       "<table border=\"1\" class=\"dataframe\">\n",
       "  <thead>\n",
       "    <tr style=\"text-align: right;\">\n",
       "      <th></th>\n",
       "      <th>SalePrice</th>\n",
       "    </tr>\n",
       "  </thead>\n",
       "  <tbody>\n",
       "    <tr>\n",
       "      <th>min</th>\n",
       "      <td>34900.00000</td>\n",
       "    </tr>\n",
       "    <tr>\n",
       "      <th>mean</th>\n",
       "      <td>180921.19589</td>\n",
       "    </tr>\n",
       "    <tr>\n",
       "      <th>median</th>\n",
       "      <td>163000.00000</td>\n",
       "    </tr>\n",
       "    <tr>\n",
       "      <th>max</th>\n",
       "      <td>755000.00000</td>\n",
       "    </tr>\n",
       "  </tbody>\n",
       "</table>\n",
       "</div>"
      ],
      "text/plain": [
       "           SalePrice\n",
       "min      34900.00000\n",
       "mean    180921.19589\n",
       "median  163000.00000\n",
       "max     755000.00000"
      ]
     },
     "execution_count": 7,
     "metadata": {},
     "output_type": "execute_result"
    }
   ],
   "source": [
    "sale_price = df['SalePrice']\n",
    "\n",
    "# Min, Max, Median Price\n",
    "sale_price.aggregate(['min', 'mean', 'median', 'max']).to_frame()"
   ]
  },
  {
   "cell_type": "code",
   "execution_count": 8,
   "id": "8821b3e9",
   "metadata": {},
   "outputs": [
    {
     "data": {
      "image/png": "[encoded data removed]",
      "text/plain": [
       "<Figure size 576x360 with 1 Axes>"
      ]
     },
     "metadata": {
      "needs_background": "light"
     },
     "output_type": "display_data"
    }
   ],
   "source": [
    "fig, ax = plt.subplots(figsize=(8, 5))\n",
    "\n",
    "# Histogram\n",
    "sale_price.plot(kind='hist', bins=15)\n",
    "\n",
    "# Title Properties\n",
    "fontdict = {\"fontsize\": 14, \"fontweight\": \"bold\"}\n",
    "\n",
    "# Labels\n",
    "plt.title(\"House Price Frequency Distribution\", fontdict=fontdict)\n",
    "plt.xlabel(\"Sale Price\")\n",
    "plt.ylabel(\"Frequency\")\n",
    "\n",
    "# Add vertical lines\n",
    "plt.grid(linestyle=\"--\", linewidth=0.5)"
   ]
  },
  {
   "cell_type": "code",
   "execution_count": 9,
   "id": "02db8a27",
   "metadata": {},
   "outputs": [
    {
     "data": {
      "image/png": "[encoded data removed]",
      "text/plain": [
       "<Figure size 720x288 with 1 Axes>"
      ]
     },
     "metadata": {
      "needs_background": "light"
     },
     "output_type": "display_data"
    }
   ],
   "source": [
    "fig, ax = plt.subplots(figsize=(10, 4))\n",
    "\n",
    "# Boxplot\n",
    "sale_price.plot(kind='box', vert=False)\n",
    "\n",
    "# Labels\n",
    "plt.title(\"House Sale Price Distribution\", fontdict=fontdict)\n",
    "plt.xlabel(\"House Sale Price\");"
   ]
  },
  {
   "cell_type": "code",
   "execution_count": 10,
   "id": "e9512936",
   "metadata": {},
   "outputs": [
    {
     "name": "stdout",
     "output_type": "stream",
     "text": [
      "Skewness: 1.88\n",
      "Kurtosis: 6.54\n"
     ]
    }
   ],
   "source": [
    "print(\"Skewness:\", round(sale_price.skew(), 2))\n",
    "print(\"Kurtosis:\", round(sale_price.kurt(), 2))"
   ]
  },
  {
   "cell_type": "markdown",
   "id": "49ee6cf6",
   "metadata": {},
   "source": [
    "    Summary:\n",
    "    \n",
    "    * `SalePrice` is not normally distributed\n",
    "    * It is skewed towards the right; there are houses with higher sale values present in our data;\n",
    "      how will we deal with the outlier house prices present in the data ?🤔\n",
    "    \n",
    "    * 75% of houses where sold for less than ~USD225_000\n",
    "    * 50% of houses where sold for a price between USD125_000 and USD225_000\n",
    "    \n",
    "    * A small number of houses were sold above USD700,000 \n",
    "    "
   ]
  },
  {
   "cell_type": "markdown",
   "id": "5ee81cf4",
   "metadata": {},
   "source": [
    "**SalePrice vs TotalBsmtSF**"
   ]
  },
  {
   "cell_type": "code",
   "execution_count": 12,
   "id": "c27a3a4c",
   "metadata": {},
   "outputs": [
    {
     "data": {
      "image/png": "[encoded data removed]",
      "text/plain": [
       "<Figure size 576x432 with 1 Axes>"
      ]
     },
     "metadata": {
      "needs_background": "light"
     },
     "output_type": "display_data"
    }
   ],
   "source": [
    "utils.plot_scatter_plot(\n",
    "    x=df['TotalBsmtSF'], \n",
    "    y=sale_price, \n",
    "    title=\"House Sale Price ($) vs Total Basement Area (sq)\",\n",
    "    xlabel=\"Total Basement Area (sq)\",\n",
    "    ylabel=\"Sale Price\"\n",
    ")m"
   ]
  },
  {
   "cell_type": "code",
   "execution_count": 16,
   "id": "f78a0d7e",
   "metadata": {},
   "outputs": [
    {
     "name": "stdout",
     "output_type": "stream",
     "text": [
      "Sale Price vs TotalBsmtSF Correlation: 0.61\n"
     ]
    }
   ],
   "source": [
    "print(\"Sale Price vs TotalBsmtSF Correlation:\", round(sale_price.corr(df['TotalBsmtSF']), 2))"
   ]
  },
  {
   "cell_type": "markdown",
   "id": "c954a1a0",
   "metadata": {},
   "source": [
    "    Summary\n",
    "    \n",
    "    * A positive linear-relationship exists between sale price (USD) and total basement area (sq); As the total\n",
    "    basement area increases, so does the house sale price. \n",
    "    * We observe one house whose total basement area was higher than the rest, but had a selling price close to\n",
    "    USD200,000"
   ]
  },
  {
   "cell_type": "markdown",
   "id": "b74a6b33",
   "metadata": {},
   "source": [
    "**Sale Price vs 1stFlrSF**"
   ]
  },
  {
   "cell_type": "code",
   "execution_count": 18,
   "id": "f97fa0e1",
   "metadata": {},
   "outputs": [
    {
     "data": {
      "image/png": "[encoded data removed]",
      "text/plain": [
       "<Figure size 576x432 with 1 Axes>"
      ]
     },
     "metadata": {
      "needs_background": "light"
     },
     "output_type": "display_data"
    }
   ],
   "source": [
    "utils.plot_scatter_plot(\n",
    "    x=df['1stFlrSF'],\n",
    "    y=sale_price,\n",
    "    title=\"House Sale Price ($) vs First Floor (sq)\",\n",
    "    xlabel=\"First Floor (sq)\",\n",
    "    ylabel=\"Sale Price ($)\"\n",
    ")"
   ]
  },
  {
   "cell_type": "code",
   "execution_count": 20,
   "id": "4723ba4f",
   "metadata": {},
   "outputs": [
    {
     "name": "stdout",
     "output_type": "stream",
     "text": [
      "Sale Price vs 1stFlrSF Correlation: 0.61\n"
     ]
    }
   ],
   "source": [
    "print(\"Sale Price vs 1stFlrSF Correlation:\", round(sale_price.corr(df['1stFlrSF']), 2))"
   ]
  },
  {
   "cell_type": "markdown",
   "id": "fcb581de",
   "metadata": {},
   "source": [
    "    Summary\n",
    "    \n",
    "    * A positive linear-relationship exists between sale price and first floor (sq); the more first floor\n",
    "    - in square feet - the more the house sale price.\n",
    "    * We observe another house whose first floor (sq) was outlier and cost ~USD200,000. Is it the same house\n",
    "    seen in the previous analysis?"
   ]
  },
  {
   "cell_type": "code",
   "execution_count": 24,
   "id": "e6bc26f6",
   "metadata": {},
   "outputs": [
    {
     "data": {
      "text/html": [
       "<div>\n",
       "<style scoped>\n",
       "    .dataframe tbody tr th:only-of-type {\n",
       "        vertical-align: middle;\n",
       "    }\n",
       "\n",
       "    .dataframe tbody tr th {\n",
       "        vertical-align: top;\n",
       "    }\n",
       "\n",
       "    .dataframe thead th {\n",
       "        text-align: right;\n",
       "    }\n",
       "</style>\n",
       "<table border=\"1\" class=\"dataframe\">\n",
       "  <thead>\n",
       "    <tr style=\"text-align: right;\">\n",
       "      <th></th>\n",
       "      <th>Id</th>\n",
       "      <th>1stFlrSF</th>\n",
       "      <th>TotalBsmtSF</th>\n",
       "    </tr>\n",
       "  </thead>\n",
       "  <tbody>\n",
       "    <tr>\n",
       "      <th>1298</th>\n",
       "      <td>1299</td>\n",
       "      <td>4692</td>\n",
       "      <td>6110</td>\n",
       "    </tr>\n",
       "  </tbody>\n",
       "</table>\n",
       "</div>"
      ],
      "text/plain": [
       "        Id  1stFlrSF  TotalBsmtSF\n",
       "1298  1299      4692         6110"
      ]
     },
     "execution_count": 24,
     "metadata": {},
     "output_type": "execute_result"
    }
   ],
   "source": [
    "df[df['1stFlrSF'] > 4000][['Id', '1stFlrSF', 'TotalBsmtSF']]"
   ]
  },
  {
   "cell_type": "markdown",
   "id": "1499bbc2",
   "metadata": {},
   "source": [
    "    * Yep. Is's the same house"
   ]
  },
  {
   "cell_type": "markdown",
   "id": "912fdf3d",
   "metadata": {},
   "source": [
    "**Sale Price vs 2stFlrSF**"
   ]
  },
  {
   "cell_type": "code",
   "execution_count": 26,
   "id": "756b3bef",
   "metadata": {},
   "outputs": [
    {
     "data": {
      "image/png": "[encoded data removed]",
      "text/plain": [
       "<Figure size 576x432 with 1 Axes>"
      ]
     },
     "metadata": {
      "needs_background": "light"
     },
     "output_type": "display_data"
    }
   ],
   "source": [
    "utils.plot_scatter_plot(\n",
    "    x=df['2ndFlrSF'],\n",
    "    y=sale_price,\n",
    "    title=\"House Sale Price ($) vs First Floor (sq)\",\n",
    "    xlabel=\"Second Floor (sq)\",\n",
    "    ylabel=\"Sale Price ($)\"\n",
    ")"
   ]
  },
  {
   "cell_type": "code",
   "execution_count": 27,
   "id": "bf1b8a31",
   "metadata": {},
   "outputs": [
    {
     "name": "stdout",
     "output_type": "stream",
     "text": [
      "Sale Price vs 2ndFlrSF Correlation: 0.32\n"
     ]
    }
   ],
   "source": [
    "print(\"Sale Price vs 2ndFlrSF Correlation:\", round(sale_price.corr(df['2ndFlrSF']), 2))"
   ]
  },
  {
   "cell_type": "markdown",
   "id": "9954160d",
   "metadata": {},
   "source": [
    "    Summary:\n",
    "    \n",
    "    * The scattter plot shows a positive linear-relationship between sale price and second floor (sq); \n",
    "    as the second floor area increases, so does the house selling price.\n",
    "    * The correlation is at 0.32\n",
    "    * We observe a number of houses whose second floor area (sq) is zero; perhaps these houses didn't have\n",
    "    a second floor."
   ]
  },
  {
   "cell_type": "code",
   "execution_count": 32,
   "id": "c8cae326",
   "metadata": {},
   "outputs": [
    {
     "data": {
      "text/plain": [
       "(829, 81)"
      ]
     },
     "execution_count": 32,
     "metadata": {},
     "output_type": "execute_result"
    }
   ],
   "source": [
    "# Inspect Houses with a value of 0 on 2ndFlrSF\n",
    "df[df['2ndFlrSF'] == 0].shape"
   ]
  },
  {
   "cell_type": "code",
   "execution_count": null,
   "id": "9c33799c",
   "metadata": {},
   "outputs": [],
   "source": []
  }
 ],
 "metadata": {
  "kernelspec": {
   "display_name": "Python 3",
   "language": "python",
   "name": "python3"
  },
  "language_info": {
   "codemirror_mode": {
    "name": "ipython",
    "version": 3
   },
   "file_extension": ".py",
   "mimetype": "text/x-python",
   "name": "python",
   "nbconvert_exporter": "python",
   "pygments_lexer": "ipython3",
   "version": "3.8.8"
  }
 },
 "nbformat": 4,
 "nbformat_minor": 5
}
