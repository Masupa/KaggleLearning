{
 "cells": [
  {
   "cell_type": "markdown",
   "id": "bc4eb2cd",
   "metadata": {},
   "source": [
    "**In this kernel, the following is what I will be doing:**\n",
    "\n",
    "    1. Understand the problem: We will look at each variable and do a philosophical analysis about their \n",
    "       meaning and importance for this problem\n",
    "    2. Univariable study. We'll just focus on the dependent variable ('SalePrice') and try to know a \n",
    "       little bit more about it.\n",
    "    3. Multivariate study. We'll try to understand how the dependent variable and independent variables relate.\n",
    "    4. Basic cleaning. We'll clean the dataset and handle the missing data, outliers and categorical variables.\n",
    "    5. Test assumptions. We'll check if our data meets the assumptions required by most multivariate techniques."
   ]
  },
  {
   "cell_type": "markdown",
   "id": "42648b76",
   "metadata": {},
   "source": [
    "**Import Packages**"
   ]
  },
  {
   "cell_type": "code",
   "execution_count": 1,
   "id": "5ba9777b",
   "metadata": {},
   "outputs": [],
   "source": [
    "import numpy as np\n",
    "import pandas as pd\n",
    "import seaborn as sns\n",
    "import matplotlib.pyplot as plt\n",
    "\n",
    "from scipy import stats\n",
    "\n",
    "import utils"
   ]
  },
  {
   "cell_type": "code",
   "execution_count": 2,
   "id": "0e054996",
   "metadata": {},
   "outputs": [],
   "source": [
    "%matplotlib inline"
   ]
  },
  {
   "cell_type": "markdown",
   "id": "8bfa177a",
   "metadata": {},
   "source": [
    "### Import Data"
   ]
  },
  {
   "cell_type": "code",
   "execution_count": 3,
   "id": "68a1d35d",
   "metadata": {},
   "outputs": [],
   "source": [
    "def wrangle_data(data_path):\n",
    "    \"\"\"Given a data - stored in a particular file-path - import\n",
    "    and manipulate data set for easier analysis\n",
    "    \n",
    "    Parameters:\n",
    "    -----------\n",
    "    data_path : str\n",
    "        File path to the data source\n",
    "        \n",
    "    Returns:\n",
    "    --------\n",
    "    df : pd.DataFrame\n",
    "        A pandas DataFrame\n",
    "    \"\"\"\n",
    "    \n",
    "    # Import data (from csv file)\n",
    "    df = pd.read_csv(data_path)\n",
    "    \n",
    "    # Drop `Multi-collinearity` features\n",
    "    drop_cols = [\"1stFlrSF\", \"YearBuilt\", \"TotRmsAbvGrd\"]\n",
    "    \n",
    "    # Drop `low-and-high cardinality` features\n",
    "    drop_cols.append(\"Id\")\n",
    "    \n",
    "    # Find and drop features > 15% missing data\n",
    "    percent_missing_data = (df.isna().sum() / df.isna().count()).sort_values(ascending=False)\n",
    "    missing_data_cols = percent_missing_data[percent_missing_data > 0.15].index\n",
    "    drop_cols.extend(missing_data_cols)\n",
    "    \n",
    "    # Drop obversations with NaN\n",
    "    df.dropna(inplace=True)\n",
    "    \n",
    "    \n",
    "    # Drop Columns\n",
    "    df.drop(columns=drop_cols, inplace=True)\n",
    "    \n",
    "    \n",
    "    return df"
   ]
  },
  {
   "cell_type": "code",
   "execution_count": 4,
   "id": "fe6f2eac",
   "metadata": {},
   "outputs": [
    {
     "data": {
      "text/html": [
       "<div>\n",
       "<style scoped>\n",
       "    .dataframe tbody tr th:only-of-type {\n",
       "        vertical-align: middle;\n",
       "    }\n",
       "\n",
       "    .dataframe tbody tr th {\n",
       "        vertical-align: top;\n",
       "    }\n",
       "\n",
       "    .dataframe thead th {\n",
       "        text-align: right;\n",
       "    }\n",
       "</style>\n",
       "<table border=\"1\" class=\"dataframe\">\n",
       "  <thead>\n",
       "    <tr style=\"text-align: right;\">\n",
       "      <th></th>\n",
       "      <th>MSSubClass</th>\n",
       "      <th>MSZoning</th>\n",
       "      <th>LotArea</th>\n",
       "      <th>Street</th>\n",
       "      <th>LotShape</th>\n",
       "      <th>LandContour</th>\n",
       "      <th>Utilities</th>\n",
       "      <th>LotConfig</th>\n",
       "      <th>LandSlope</th>\n",
       "      <th>Neighborhood</th>\n",
       "      <th>...</th>\n",
       "      <th>EnclosedPorch</th>\n",
       "      <th>3SsnPorch</th>\n",
       "      <th>ScreenPorch</th>\n",
       "      <th>PoolArea</th>\n",
       "      <th>MiscVal</th>\n",
       "      <th>MoSold</th>\n",
       "      <th>YrSold</th>\n",
       "      <th>SaleType</th>\n",
       "      <th>SaleCondition</th>\n",
       "      <th>SalePrice</th>\n",
       "    </tr>\n",
       "  </thead>\n",
       "  <tbody>\n",
       "  </tbody>\n",
       "</table>\n",
       "<p>0 rows × 71 columns</p>\n",
       "</div>"
      ],
      "text/plain": [
       "Empty DataFrame\n",
       "Columns: [MSSubClass, MSZoning, LotArea, Street, LotShape, LandContour, Utilities, LotConfig, LandSlope, Neighborhood, Condition1, Condition2, BldgType, HouseStyle, OverallQual, OverallCond, YearRemodAdd, RoofStyle, RoofMatl, Exterior1st, Exterior2nd, MasVnrType, MasVnrArea, ExterQual, ExterCond, Foundation, BsmtQual, BsmtCond, BsmtExposure, BsmtFinType1, BsmtFinSF1, BsmtFinType2, BsmtFinSF2, BsmtUnfSF, TotalBsmtSF, Heating, HeatingQC, CentralAir, Electrical, 2ndFlrSF, LowQualFinSF, GrLivArea, BsmtFullBath, BsmtHalfBath, FullBath, HalfBath, BedroomAbvGr, KitchenAbvGr, KitchenQual, Functional, Fireplaces, GarageType, GarageYrBlt, GarageFinish, GarageCars, GarageArea, GarageQual, GarageCond, PavedDrive, WoodDeckSF, OpenPorchSF, EnclosedPorch, 3SsnPorch, ScreenPorch, PoolArea, MiscVal, MoSold, YrSold, SaleType, SaleCondition, SalePrice]\n",
       "Index: []\n",
       "\n",
       "[0 rows x 71 columns]"
      ]
     },
     "execution_count": 4,
     "metadata": {},
     "output_type": "execute_result"
    }
   ],
   "source": [
    "df = wrangle_data(\"data/train.csv\")\n",
    "df.head()"
   ]
  },
  {
   "cell_type": "markdown",
   "id": "0bf93d33",
   "metadata": {},
   "source": [
    "    How big is the data we are working with? How many observations and features (variables)\n",
    "    are in the dataset?\n",
    "    * 1,460 Observations\n",
    "    * 81 features (variables) 🤔 (How am I going to explore all these features?)"
   ]
  },
  {
   "cell_type": "code",
   "execution_count": 5,
   "id": "a5b8d1ae",
   "metadata": {},
   "outputs": [
    {
     "data": {
      "text/plain": [
       "(0, 71)"
      ]
     },
     "execution_count": 5,
     "metadata": {},
     "output_type": "execute_result"
    }
   ],
   "source": [
    "df.shape"
   ]
  },
  {
   "cell_type": "markdown",
   "id": "6a0f376b",
   "metadata": {},
   "source": [
    "    What features (attributes) do we have? Are there any missing values?\n",
    "    What about their data-types?"
   ]
  },
  {
   "cell_type": "code",
   "execution_count": 6,
   "id": "b0272072",
   "metadata": {},
   "outputs": [
    {
     "name": "stdout",
     "output_type": "stream",
     "text": [
      "<class 'pandas.core.frame.DataFrame'>\n",
      "Int64Index: 0 entries\n",
      "Data columns (total 71 columns):\n",
      " #   Column         Non-Null Count  Dtype  \n",
      "---  ------         --------------  -----  \n",
      " 0   MSSubClass     0 non-null      int64  \n",
      " 1   MSZoning       0 non-null      object \n",
      " 2   LotArea        0 non-null      int64  \n",
      " 3   Street         0 non-null      object \n",
      " 4   LotShape       0 non-null      object \n",
      " 5   LandContour    0 non-null      object \n",
      " 6   Utilities      0 non-null      object \n",
      " 7   LotConfig      0 non-null      object \n",
      " 8   LandSlope      0 non-null      object \n",
      " 9   Neighborhood   0 non-null      object \n",
      " 10  Condition1     0 non-null      object \n",
      " 11  Condition2     0 non-null      object \n",
      " 12  BldgType       0 non-null      object \n",
      " 13  HouseStyle     0 non-null      object \n",
      " 14  OverallQual    0 non-null      int64  \n",
      " 15  OverallCond    0 non-null      int64  \n",
      " 16  YearRemodAdd   0 non-null      int64  \n",
      " 17  RoofStyle      0 non-null      object \n",
      " 18  RoofMatl       0 non-null      object \n",
      " 19  Exterior1st    0 non-null      object \n",
      " 20  Exterior2nd    0 non-null      object \n",
      " 21  MasVnrType     0 non-null      object \n",
      " 22  MasVnrArea     0 non-null      float64\n",
      " 23  ExterQual      0 non-null      object \n",
      " 24  ExterCond      0 non-null      object \n",
      " 25  Foundation     0 non-null      object \n",
      " 26  BsmtQual       0 non-null      object \n",
      " 27  BsmtCond       0 non-null      object \n",
      " 28  BsmtExposure   0 non-null      object \n",
      " 29  BsmtFinType1   0 non-null      object \n",
      " 30  BsmtFinSF1     0 non-null      int64  \n",
      " 31  BsmtFinType2   0 non-null      object \n",
      " 32  BsmtFinSF2     0 non-null      int64  \n",
      " 33  BsmtUnfSF      0 non-null      int64  \n",
      " 34  TotalBsmtSF    0 non-null      int64  \n",
      " 35  Heating        0 non-null      object \n",
      " 36  HeatingQC      0 non-null      object \n",
      " 37  CentralAir     0 non-null      object \n",
      " 38  Electrical     0 non-null      object \n",
      " 39  2ndFlrSF       0 non-null      int64  \n",
      " 40  LowQualFinSF   0 non-null      int64  \n",
      " 41  GrLivArea      0 non-null      int64  \n",
      " 42  BsmtFullBath   0 non-null      int64  \n",
      " 43  BsmtHalfBath   0 non-null      int64  \n",
      " 44  FullBath       0 non-null      int64  \n",
      " 45  HalfBath       0 non-null      int64  \n",
      " 46  BedroomAbvGr   0 non-null      int64  \n",
      " 47  KitchenAbvGr   0 non-null      int64  \n",
      " 48  KitchenQual    0 non-null      object \n",
      " 49  Functional     0 non-null      object \n",
      " 50  Fireplaces     0 non-null      int64  \n",
      " 51  GarageType     0 non-null      object \n",
      " 52  GarageYrBlt    0 non-null      float64\n",
      " 53  GarageFinish   0 non-null      object \n",
      " 54  GarageCars     0 non-null      int64  \n",
      " 55  GarageArea     0 non-null      int64  \n",
      " 56  GarageQual     0 non-null      object \n",
      " 57  GarageCond     0 non-null      object \n",
      " 58  PavedDrive     0 non-null      object \n",
      " 59  WoodDeckSF     0 non-null      int64  \n",
      " 60  OpenPorchSF    0 non-null      int64  \n",
      " 61  EnclosedPorch  0 non-null      int64  \n",
      " 62  3SsnPorch      0 non-null      int64  \n",
      " 63  ScreenPorch    0 non-null      int64  \n",
      " 64  PoolArea       0 non-null      int64  \n",
      " 65  MiscVal        0 non-null      int64  \n",
      " 66  MoSold         0 non-null      int64  \n",
      " 67  YrSold         0 non-null      int64  \n",
      " 68  SaleType       0 non-null      object \n",
      " 69  SaleCondition  0 non-null      object \n",
      " 70  SalePrice      0 non-null      int64  \n",
      "dtypes: float64(2), int64(31), object(38)\n",
      "memory usage: 0.0+ bytes\n"
     ]
    }
   ],
   "source": [
    "df.info()"
   ]
  },
  {
   "cell_type": "markdown",
   "id": "f76017bb",
   "metadata": {},
   "source": [
    "    In order to understand our data, we will look at each variable and try to understand its meaning\n",
    "    and relevance to this problem.\n",
    "    \n",
    "    In order to have some discipline in my analysis, I've adopted the idea of creating a spreadsheet\n",
    "    with the following columns:\n",
    "    \n",
    "    1. Variable: Variable name\n",
    "    2. Type: Variable's type; either `numerical` - int, float or `categorical` - for categorical values\n",
    "    3. Segment: Identification of the variable's segment. We define three possible segments: building, \n",
    "       space or location.\n",
    "    4. Expectation: Our expectation about the variable influence in `SalePrice.` We can define a categorical\n",
    "       scale of `High`, `Medium` or `Low`\n",
    "    5. Conclusion: Our conclusions about the importance of the variable, after we give a quick look at the\n",
    "       data. We can define a categorical scale of `High`, `Medium` or `Low`.\n",
    "    6. Comments: Any general comments"
   ]
  },
  {
   "cell_type": "markdown",
   "id": "d4d6e1ba",
   "metadata": {},
   "source": [
    "Analyst found here - [Spreadsheet](https://docs.google.com/spreadsheets/d/1HXOq9GMguCRamvw5YH8CQJececkYsrNYrpygL_pMJ3M/edit?usp=sharing)"
   ]
  },
  {
   "cell_type": "markdown",
   "id": "83320f7b",
   "metadata": {},
   "source": [
    "    After a subjective and research analysis of each variable's relevance to `SalePrice`,\n",
    "    I ended up with the following features:"
   ]
  },
  {
   "cell_type": "markdown",
   "id": "1c635b1c",
   "metadata": {},
   "source": [
    "|Feature|Expectation|Comments|\n",
    "|-------|-----------|-------|\n",
    "|MSZoning|High|We'd expect the zoning classification to incluenece the price of a house. E.g. With all otherfactors constant, a home in commercial zoning would be priced differently from that in industrail zoning.|\n",
    "|Neighborhood|High|Definitely, neighborhood affects the price of a house|\n",
    "|OverallQual|High|Overall material and finish of a house matters in pricing|\n",
    "|OverallCond|High|Overall condition matters in pricing too|\n",
    "|1stFlrSF|High|First floor area basically tells us how big the house is in surface area, therefore, it matters|\n",
    "|2ndFlrSF|High|Same as first floor area|\n",
    "|GrLivArea|High|Same as the 1stFlrSF and 2ndFlrSF|\n",
    "|HouseStyle|Medium|We'd expect a different in pricing between 1Story and 2Story building|\n",
    "|TotBsmtSF|Medium|With all other factors constant, a house with a bigger basement would be more expensive|\n",
    "|Bedroom|Medium|For obvious reasons, this matters|\n",
    "|GarageCars|Medium|A house with a garage that can have more cars might be pricy|\n",
    "|GarageArea|Medium|The bigger the garage area, the more cars can pack in it. There might be multi-collinearity here|\n",
    "|PoolArea|Medium|The presense of a swimming pool hicks the house price|\n",
    "|MiscFeature|Medium|Depending on the Misc Feature, the price might be influence or not|"
   ]
  },
  {
   "cell_type": "markdown",
   "id": "e56553a3",
   "metadata": {},
   "source": [
    "### Explore\n",
    "\n",
    "    First things first, we will perform `Univariate Analysis` to understand the dependent variable, `SalePrice`;\n",
    "    we want to understand the price range, as well as the central measures of tendency (min, mean, max prices).\n",
    "    We will want to understand the frequency distribution, how spread the prices are, etc."
   ]
  },
  {
   "cell_type": "markdown",
   "id": "cf5c21d8",
   "metadata": {},
   "source": [
    "**SalePrice**"
   ]
  },
  {
   "cell_type": "code",
   "execution_count": 7,
   "id": "c3d8bf3c",
   "metadata": {},
   "outputs": [
    {
     "data": {
      "text/html": [
       "<div>\n",
       "<style scoped>\n",
       "    .dataframe tbody tr th:only-of-type {\n",
       "        vertical-align: middle;\n",
       "    }\n",
       "\n",
       "    .dataframe tbody tr th {\n",
       "        vertical-align: top;\n",
       "    }\n",
       "\n",
       "    .dataframe thead th {\n",
       "        text-align: right;\n",
       "    }\n",
       "</style>\n",
       "<table border=\"1\" class=\"dataframe\">\n",
       "  <thead>\n",
       "    <tr style=\"text-align: right;\">\n",
       "      <th></th>\n",
       "      <th>SalePrice</th>\n",
       "    </tr>\n",
       "  </thead>\n",
       "  <tbody>\n",
       "    <tr>\n",
       "      <th>min</th>\n",
       "      <td>NaN</td>\n",
       "    </tr>\n",
       "    <tr>\n",
       "      <th>mean</th>\n",
       "      <td>NaN</td>\n",
       "    </tr>\n",
       "    <tr>\n",
       "      <th>median</th>\n",
       "      <td>NaN</td>\n",
       "    </tr>\n",
       "    <tr>\n",
       "      <th>max</th>\n",
       "      <td>NaN</td>\n",
       "    </tr>\n",
       "  </tbody>\n",
       "</table>\n",
       "</div>"
      ],
      "text/plain": [
       "        SalePrice\n",
       "min           NaN\n",
       "mean          NaN\n",
       "median        NaN\n",
       "max           NaN"
      ]
     },
     "execution_count": 7,
     "metadata": {},
     "output_type": "execute_result"
    }
   ],
   "source": [
    "sale_price = df['SalePrice']\n",
    "\n",
    "# Min, Max, Median Price\n",
    "sale_price.aggregate(['min', 'mean', 'median', 'max']).to_frame()"
   ]
  },
  {
   "cell_type": "code",
   "execution_count": 8,
   "id": "8821b3e9",
   "metadata": {},
   "outputs": [
    {
     "data": {
      "image/png": "[encoded data removed]",
      "text/plain": [
       "<Figure size 576x360 with 1 Axes>"
      ]
     },
     "metadata": {
      "needs_background": "light"
     },
     "output_type": "display_data"
    }
   ],
   "source": [
    "fig, ax = plt.subplots(figsize=(8, 5))\n",
    "\n",
    "# Histogram\n",
    "sale_price.plot(kind='hist', bins=15)\n",
    "\n",
    "# Title Properties\n",
    "fontdict = {\"fontsize\": 14, \"fontweight\": \"bold\"}\n",
    "\n",
    "# Labels\n",
    "plt.title(\"House Price Frequency Distribution\", fontdict=fontdict)\n",
    "plt.xlabel(\"Sale Price\")\n",
    "plt.ylabel(\"Frequency\")\n",
    "\n",
    "# Add vertical lines\n",
    "plt.grid(linestyle=\"--\", linewidth=0.5)"
   ]
  },
  {
   "cell_type": "code",
   "execution_count": 9,
   "id": "02db8a27",
   "metadata": {},
   "outputs": [
    {
     "data": {
      "image/png": "[encoded data removed]",
      "text/plain": [
       "<Figure size 720x288 with 1 Axes>"
      ]
     },
     "metadata": {
      "needs_background": "light"
     },
     "output_type": "display_data"
    }
   ],
   "source": [
    "fig, ax = plt.subplots(figsize=(10, 4))\n",
    "\n",
    "# Boxplot\n",
    "sale_price.plot(kind='box', vert=False)\n",
    "\n",
    "# Labels\n",
    "plt.title(\"House Sale Price Distribution\", fontdict=fontdict)\n",
    "plt.xlabel(\"House Sale Price\");"
   ]
  },
  {
   "cell_type": "code",
   "execution_count": 10,
   "id": "e9512936",
   "metadata": {},
   "outputs": [
    {
     "name": "stdout",
     "output_type": "stream",
     "text": [
      "Skewness: nan\n",
      "Kurtosis: nan\n"
     ]
    }
   ],
   "source": [
    "print(\"Skewness:\", round(sale_price.skew(), 2))\n",
    "print(\"Kurtosis:\", round(sale_price.kurt(), 2))"
   ]
  },
  {
   "cell_type": "markdown",
   "id": "49ee6cf6",
   "metadata": {},
   "source": [
    "    Summary:\n",
    "    \n",
    "    * `SalePrice` is not normally distributed\n",
    "    * It is skewed towards the right; there are houses with higher sale values present in our data;\n",
    "      how will we deal with the outlier house prices present in the data ?🤔\n",
    "    \n",
    "    * 75% of houses where sold for less than ~USD225_000\n",
    "    * 50% of houses where sold for a price between USD125_000 and USD225_000\n",
    "    \n",
    "    * A small number of houses were sold above USD700,000 \n",
    "    "
   ]
  },
  {
   "cell_type": "markdown",
   "id": "5eebb897",
   "metadata": {},
   "source": [
    "`Analyze Numerical Features`"
   ]
  },
  {
   "cell_type": "markdown",
   "id": "5ee81cf4",
   "metadata": {},
   "source": [
    "**SalePrice vs TotalBsmtSF**"
   ]
  },
  {
   "cell_type": "code",
   "execution_count": 11,
   "id": "c27a3a4c",
   "metadata": {},
   "outputs": [
    {
     "data": {
      "image/png": "[encoded data removed]",
      "text/plain": [
       "<Figure size 576x432 with 1 Axes>"
      ]
     },
     "metadata": {
      "needs_background": "light"
     },
     "output_type": "display_data"
    }
   ],
   "source": [
    "utils.plot_scatter_plot(\n",
    "    x=df['TotalBsmtSF'], \n",
    "    y=sale_price, \n",
    "    title=\"House Sale Price ($) vs Total Basement Area (sq)\",\n",
    "    xlabel=\"Total Basement Area (sq)\",\n",
    "    ylabel=\"Sale Price\"\n",
    ")"
   ]
  },
  {
   "cell_type": "code",
   "execution_count": 12,
   "id": "f78a0d7e",
   "metadata": {},
   "outputs": [
    {
     "name": "stdout",
     "output_type": "stream",
     "text": [
      "Sale Price vs TotalBsmtSF Correlation: nan\n"
     ]
    }
   ],
   "source": [
    "print(\"Sale Price vs TotalBsmtSF Correlation:\", round(sale_price.corr(df['TotalBsmtSF']), 2))"
   ]
  },
  {
   "cell_type": "markdown",
   "id": "c954a1a0",
   "metadata": {},
   "source": [
    "    Summary\n",
    "    \n",
    "    * A positive linear-relationship exists between sale price (USD) and total basement area (sq); As the total\n",
    "    basement area increases, so does the house sale price. \n",
    "    * We observe one house whose total basement area was higher than the rest, but had a selling price close to\n",
    "    USD200,000"
   ]
  },
  {
   "cell_type": "markdown",
   "id": "b74a6b33",
   "metadata": {},
   "source": [
    "**Sale Price vs 1stFlrSF**"
   ]
  },
  {
   "cell_type": "code",
   "execution_count": 13,
   "id": "f97fa0e1",
   "metadata": {
    "scrolled": false
   },
   "outputs": [],
   "source": [
    "# utils.plot_scatter_plot(\n",
    "#     x=df['1stFlrSF'],\n",
    "#     y=sale_price,\n",
    "#     title=\"House Sale Price ($) vs First Floor (sq)\",\n",
    "#     xlabel=\"First Floor (sq)\",\n",
    "#     ylabel=\"Sale Price ($)\"\n",
    "# )"
   ]
  },
  {
   "cell_type": "code",
   "execution_count": 14,
   "id": "4723ba4f",
   "metadata": {},
   "outputs": [],
   "source": [
    "# print(\"Sale Price vs 1stFlrSF Correlation:\", round(sale_price.corr(df['1stFlrSF']), 2))"
   ]
  },
  {
   "cell_type": "markdown",
   "id": "fcb581de",
   "metadata": {},
   "source": [
    "    Summary\n",
    "    \n",
    "    * A positive linear-relationship exists between sale price and first floor (sq); the more first floor\n",
    "    - in square feet - the more the house sale price.\n",
    "    * We observe another house whose first floor (sq) was outlier and cost ~USD200,000. Is it the same house\n",
    "    seen in the previous analysis?"
   ]
  },
  {
   "cell_type": "code",
   "execution_count": 15,
   "id": "e6bc26f6",
   "metadata": {},
   "outputs": [],
   "source": [
    "# df[df['1stFlrSF'] > 4000][['Id', '1stFlrSF', 'TotalBsmtSF']]"
   ]
  },
  {
   "cell_type": "markdown",
   "id": "1499bbc2",
   "metadata": {},
   "source": [
    "    * Yep. Is's the same house"
   ]
  },
  {
   "cell_type": "markdown",
   "id": "912fdf3d",
   "metadata": {},
   "source": [
    "**Sale Price vs 2stFlrSF**"
   ]
  },
  {
   "cell_type": "code",
   "execution_count": 16,
   "id": "756b3bef",
   "metadata": {},
   "outputs": [
    {
     "data": {
      "image/png": "[encoded data removed]",
      "text/plain": [
       "<Figure size 576x432 with 1 Axes>"
      ]
     },
     "metadata": {
      "needs_background": "light"
     },
     "output_type": "display_data"
    }
   ],
   "source": [
    "utils.plot_scatter_plot(\n",
    "    x=df['2ndFlrSF'],\n",
    "    y=sale_price,\n",
    "    title=\"House Sale Price ($) vs First Floor (sq)\",\n",
    "    xlabel=\"Second Floor (sq)\",\n",
    "    ylabel=\"Sale Price ($)\"\n",
    ")"
   ]
  },
  {
   "cell_type": "code",
   "execution_count": 17,
   "id": "bf1b8a31",
   "metadata": {},
   "outputs": [
    {
     "name": "stdout",
     "output_type": "stream",
     "text": [
      "Sale Price vs 2ndFlrSF Correlation: nan\n"
     ]
    }
   ],
   "source": [
    "print(\"Sale Price vs 2ndFlrSF Correlation:\", round(sale_price.corr(df['2ndFlrSF']), 2))"
   ]
  },
  {
   "cell_type": "markdown",
   "id": "9954160d",
   "metadata": {},
   "source": [
    "    Summary:\n",
    "    \n",
    "    * The scattter plot shows a positive linear-relationship between sale price and second floor (sq); \n",
    "    as the second floor area increases, so does the house selling price.\n",
    "    * The correlation is at 0.32\n",
    "    * We observe a number of houses whose second floor area (sq) is zero; perhaps these houses didn't have\n",
    "    a second floor."
   ]
  },
  {
   "cell_type": "code",
   "execution_count": 18,
   "id": "c8cae326",
   "metadata": {},
   "outputs": [
    {
     "data": {
      "text/plain": [
       "(0, 71)"
      ]
     },
     "execution_count": 18,
     "metadata": {},
     "output_type": "execute_result"
    }
   ],
   "source": [
    "# Inspect Houses with a value of 0 on 2ndFlrSF\n",
    "df[df['2ndFlrSF'] == 0].shape"
   ]
  },
  {
   "cell_type": "markdown",
   "id": "593fe8f7",
   "metadata": {},
   "source": [
    "**Sale Price vs GrLivArea**"
   ]
  },
  {
   "cell_type": "code",
   "execution_count": 19,
   "id": "8b983280",
   "metadata": {},
   "outputs": [
    {
     "data": {
      "image/png": "[encoded data removed]",
      "text/plain": [
       "<Figure size 576x432 with 1 Axes>"
      ]
     },
     "metadata": {
      "needs_background": "light"
     },
     "output_type": "display_data"
    }
   ],
   "source": [
    "utils.plot_scatter_plot(\n",
    "    x=df[\"GrLivArea\"],\n",
    "    y=sale_price,\n",
    "    title=\"House Sale Price vs Above Grade Living Area (sq)\",\n",
    "    xlabel=\"Above Ground Living Area\",\n",
    "    ylabel=\"Sale Price\"\n",
    ")"
   ]
  },
  {
   "cell_type": "code",
   "execution_count": 20,
   "id": "ee3a9d30",
   "metadata": {},
   "outputs": [
    {
     "name": "stdout",
     "output_type": "stream",
     "text": [
      "Sale Price vs Above Ground Living Area Correlation: nan\n"
     ]
    }
   ],
   "source": [
    "print(\"Sale Price vs Above Ground Living Area Correlation:\", round(sale_price.corr(df['GrLivArea']), 2))"
   ]
  },
  {
   "cell_type": "markdown",
   "id": "8080b427",
   "metadata": {},
   "source": [
    "    Summary:\n",
    "    \n",
    "    * Above Ground Living Area affects Sale Price such that as the area increases, so does the Sale Price; this\n",
    "    indicated a positive linear-relationship between the two variables.\n",
    "    * Again, the scatter plot shows outlier houses with an area above 4,500sq yet their sale price was less than\n",
    "    USD200,000."
   ]
  },
  {
   "cell_type": "markdown",
   "id": "e1ceb9b6",
   "metadata": {},
   "source": [
    "**Sale Price vs GarageArea**"
   ]
  },
  {
   "cell_type": "code",
   "execution_count": 21,
   "id": "81b55f07",
   "metadata": {},
   "outputs": [
    {
     "data": {
      "image/png": "[encoded data removed]",
      "text/plain": [
       "<Figure size 576x432 with 1 Axes>"
      ]
     },
     "metadata": {
      "needs_background": "light"
     },
     "output_type": "display_data"
    }
   ],
   "source": [
    "utils.plot_scatter_plot(\n",
    "    x=df[\"GarageArea\"],\n",
    "    y=sale_price,\n",
    "    title=\"House Sale Price vs Garage Area (sq)\",\n",
    "    xlabel=\"Garage Area (sq)\",\n",
    "    ylabel=\"Sale Price\"\n",
    ")"
   ]
  },
  {
   "cell_type": "code",
   "execution_count": 22,
   "id": "f39e96d8",
   "metadata": {},
   "outputs": [
    {
     "name": "stdout",
     "output_type": "stream",
     "text": [
      "Correlation: Sale Price vs Garage Area: nan\n"
     ]
    }
   ],
   "source": [
    "print(\"Correlation: Sale Price vs Garage Area:\", round(sale_price.corr(df[\"GarageArea\"]), 2))"
   ]
  },
  {
   "cell_type": "markdown",
   "id": "5e1d028e",
   "metadata": {},
   "source": [
    "    Summary\n",
    "    \n",
    "    * Sale Price and Garage Area show a positive linear-relationship between them such that if the Sale Price\n",
    "    increases as Garage Area (Space) increases.\n",
    "    * A correlation of 0.62\n",
    "    * Further, we observe a number of houses with Garage Area of 0; these might be houses that don't have a \n",
    "    garage."
   ]
  },
  {
   "cell_type": "markdown",
   "id": "cffb2706",
   "metadata": {},
   "source": [
    "**Sale Price vs PoolArea**"
   ]
  },
  {
   "cell_type": "code",
   "execution_count": 23,
   "id": "9d07f77e",
   "metadata": {},
   "outputs": [
    {
     "data": {
      "image/png": "[encoded data removed]",
      "text/plain": [
       "<Figure size 576x432 with 1 Axes>"
      ]
     },
     "metadata": {
      "needs_background": "light"
     },
     "output_type": "display_data"
    }
   ],
   "source": [
    "utils.plot_scatter_plot(\n",
    "    x=df[\"PoolArea\"],\n",
    "    y=sale_price,\n",
    "    title=\"House Sale Price vs Pool Area (sq)\",\n",
    "    xlabel=\"Pool Area (sq)\",\n",
    "    ylabel=\"Sale Price\"\n",
    ")"
   ]
  },
  {
   "cell_type": "markdown",
   "id": "072fd275",
   "metadata": {},
   "source": [
    "    Summary\n",
    "    \n",
    "    * Interestingly, the majority of houses don't have a swimming pool; this might be indicated by the presense\n",
    "    of a zero as the value for the majority of houses.\n",
    "    * No relationship occurs between these two variables"
   ]
  },
  {
   "cell_type": "code",
   "execution_count": 24,
   "id": "24f43863",
   "metadata": {},
   "outputs": [],
   "source": [
    "# df[\"PoolQC\"].value_counts()"
   ]
  },
  {
   "cell_type": "code",
   "execution_count": 25,
   "id": "32d2d255",
   "metadata": {},
   "outputs": [],
   "source": [
    "# df[\"PoolQC\"].isnull().sum()"
   ]
  },
  {
   "cell_type": "markdown",
   "id": "b1382234",
   "metadata": {},
   "source": [
    "    * `PoolArea` contains 1,453 missing values; we drop this feature before fitting a model 🎯"
   ]
  },
  {
   "cell_type": "markdown",
   "id": "6d709dcf",
   "metadata": {},
   "source": [
    "`Analyze Categorical Features`"
   ]
  },
  {
   "cell_type": "markdown",
   "id": "5b5a48e6",
   "metadata": {},
   "source": [
    "**Sale Price vs Neighborhood**"
   ]
  },
  {
   "cell_type": "code",
   "execution_count": 26,
   "id": "6f0c2d46",
   "metadata": {},
   "outputs": [],
   "source": [
    "nghbrhood_counts = df[\"Neighborhood\"].value_counts(normalize=True).sort_values()"
   ]
  },
  {
   "cell_type": "code",
   "execution_count": 27,
   "id": "c2cb26f8",
   "metadata": {},
   "outputs": [
    {
     "ename": "IndexError",
     "evalue": "index 0 is out of bounds for axis 0 with size 0",
     "output_type": "error",
     "traceback": [
      "\u001b[0;31m---------------------------------------------------------------------------\u001b[0m",
      "\u001b[0;31mIndexError\u001b[0m                                Traceback (most recent call last)",
      "\u001b[0;32m<ipython-input-27-ebf3dc5e038a>\u001b[0m in \u001b[0;36m<module>\u001b[0;34m\u001b[0m\n\u001b[0;32m----> 1\u001b[0;31m utils.plot_bar(\n\u001b[0m\u001b[1;32m      2\u001b[0m     \u001b[0mdata\u001b[0m\u001b[0;34m=\u001b[0m\u001b[0mnghbrhood_counts\u001b[0m\u001b[0;34m,\u001b[0m\u001b[0;34m\u001b[0m\u001b[0;34m\u001b[0m\u001b[0m\n\u001b[1;32m      3\u001b[0m     \u001b[0mtitle\u001b[0m\u001b[0;34m=\u001b[0m\u001b[0;34m\"Neighborhood Distribution\"\u001b[0m\u001b[0;34m,\u001b[0m\u001b[0;34m\u001b[0m\u001b[0;34m\u001b[0m\u001b[0m\n\u001b[1;32m      4\u001b[0m     \u001b[0mylabel\u001b[0m\u001b[0;34m=\u001b[0m\u001b[0;34m\"Neighborhood\"\u001b[0m\u001b[0;34m,\u001b[0m\u001b[0;34m\u001b[0m\u001b[0;34m\u001b[0m\u001b[0m\n\u001b[1;32m      5\u001b[0m     \u001b[0mticks_range\u001b[0m\u001b[0;34m=\u001b[0m\u001b[0mnp\u001b[0m\u001b[0;34m.\u001b[0m\u001b[0marange\u001b[0m\u001b[0;34m(\u001b[0m\u001b[0;36m0.0\u001b[0m\u001b[0;34m,\u001b[0m \u001b[0;36m0.18\u001b[0m\u001b[0;34m,\u001b[0m \u001b[0;36m0.02\u001b[0m\u001b[0;34m)\u001b[0m\u001b[0;34m,\u001b[0m\u001b[0;34m\u001b[0m\u001b[0;34m\u001b[0m\u001b[0m\n",
      "\u001b[0;32m~/development/KaggleLearning/HousePrices/utils.py\u001b[0m in \u001b[0;36mplot_bar\u001b[0;34m(data, title, ylabel, ticks_range, labels, figsize)\u001b[0m\n\u001b[1;32m    105\u001b[0m \u001b[0;34m\u001b[0m\u001b[0m\n\u001b[1;32m    106\u001b[0m     \u001b[0;31m# Plot Barplot\u001b[0m\u001b[0;34m\u001b[0m\u001b[0;34m\u001b[0m\u001b[0;34m\u001b[0m\u001b[0m\n\u001b[0;32m--> 107\u001b[0;31m     \u001b[0mdata\u001b[0m\u001b[0;34m.\u001b[0m\u001b[0mplot\u001b[0m\u001b[0;34m(\u001b[0m\u001b[0mkind\u001b[0m\u001b[0;34m=\u001b[0m\u001b[0;34m\"barh\"\u001b[0m\u001b[0;34m)\u001b[0m\u001b[0;34m\u001b[0m\u001b[0;34m\u001b[0m\u001b[0m\n\u001b[0m\u001b[1;32m    108\u001b[0m \u001b[0;34m\u001b[0m\u001b[0m\n\u001b[1;32m    109\u001b[0m     \u001b[0;31m# Labels\u001b[0m\u001b[0;34m\u001b[0m\u001b[0;34m\u001b[0m\u001b[0;34m\u001b[0m\u001b[0m\n",
      "\u001b[0;32m~/opt/anaconda3/lib/python3.8/site-packages/pandas/plotting/_core.py\u001b[0m in \u001b[0;36m__call__\u001b[0;34m(self, *args, **kwargs)\u001b[0m\n\u001b[1;32m    953\u001b[0m                     \u001b[0mdata\u001b[0m\u001b[0;34m.\u001b[0m\u001b[0mcolumns\u001b[0m \u001b[0;34m=\u001b[0m \u001b[0mlabel_name\u001b[0m\u001b[0;34m\u001b[0m\u001b[0;34m\u001b[0m\u001b[0m\n\u001b[1;32m    954\u001b[0m \u001b[0;34m\u001b[0m\u001b[0m\n\u001b[0;32m--> 955\u001b[0;31m         \u001b[0;32mreturn\u001b[0m \u001b[0mplot_backend\u001b[0m\u001b[0;34m.\u001b[0m\u001b[0mplot\u001b[0m\u001b[0;34m(\u001b[0m\u001b[0mdata\u001b[0m\u001b[0;34m,\u001b[0m \u001b[0mkind\u001b[0m\u001b[0;34m=\u001b[0m\u001b[0mkind\u001b[0m\u001b[0;34m,\u001b[0m \u001b[0;34m**\u001b[0m\u001b[0mkwargs\u001b[0m\u001b[0;34m)\u001b[0m\u001b[0;34m\u001b[0m\u001b[0;34m\u001b[0m\u001b[0m\n\u001b[0m\u001b[1;32m    956\u001b[0m \u001b[0;34m\u001b[0m\u001b[0m\n\u001b[1;32m    957\u001b[0m     \u001b[0m__call__\u001b[0m\u001b[0;34m.\u001b[0m\u001b[0m__doc__\u001b[0m \u001b[0;34m=\u001b[0m \u001b[0m__doc__\u001b[0m\u001b[0;34m\u001b[0m\u001b[0;34m\u001b[0m\u001b[0m\n",
      "\u001b[0;32m~/opt/anaconda3/lib/python3.8/site-packages/pandas/plotting/_matplotlib/__init__.py\u001b[0m in \u001b[0;36mplot\u001b[0;34m(data, kind, **kwargs)\u001b[0m\n\u001b[1;32m     59\u001b[0m             \u001b[0mkwargs\u001b[0m\u001b[0;34m[\u001b[0m\u001b[0;34m\"ax\"\u001b[0m\u001b[0;34m]\u001b[0m \u001b[0;34m=\u001b[0m \u001b[0mgetattr\u001b[0m\u001b[0;34m(\u001b[0m\u001b[0max\u001b[0m\u001b[0;34m,\u001b[0m \u001b[0;34m\"left_ax\"\u001b[0m\u001b[0;34m,\u001b[0m \u001b[0max\u001b[0m\u001b[0;34m)\u001b[0m\u001b[0;34m\u001b[0m\u001b[0;34m\u001b[0m\u001b[0m\n\u001b[1;32m     60\u001b[0m     \u001b[0mplot_obj\u001b[0m \u001b[0;34m=\u001b[0m \u001b[0mPLOT_CLASSES\u001b[0m\u001b[0;34m[\u001b[0m\u001b[0mkind\u001b[0m\u001b[0;34m]\u001b[0m\u001b[0;34m(\u001b[0m\u001b[0mdata\u001b[0m\u001b[0;34m,\u001b[0m \u001b[0;34m**\u001b[0m\u001b[0mkwargs\u001b[0m\u001b[0;34m)\u001b[0m\u001b[0;34m\u001b[0m\u001b[0;34m\u001b[0m\u001b[0m\n\u001b[0;32m---> 61\u001b[0;31m     \u001b[0mplot_obj\u001b[0m\u001b[0;34m.\u001b[0m\u001b[0mgenerate\u001b[0m\u001b[0;34m(\u001b[0m\u001b[0;34m)\u001b[0m\u001b[0;34m\u001b[0m\u001b[0;34m\u001b[0m\u001b[0m\n\u001b[0m\u001b[1;32m     62\u001b[0m     \u001b[0mplot_obj\u001b[0m\u001b[0;34m.\u001b[0m\u001b[0mdraw\u001b[0m\u001b[0;34m(\u001b[0m\u001b[0;34m)\u001b[0m\u001b[0;34m\u001b[0m\u001b[0;34m\u001b[0m\u001b[0m\n\u001b[1;32m     63\u001b[0m     \u001b[0;32mreturn\u001b[0m \u001b[0mplot_obj\u001b[0m\u001b[0;34m.\u001b[0m\u001b[0mresult\u001b[0m\u001b[0;34m\u001b[0m\u001b[0;34m\u001b[0m\u001b[0m\n",
      "\u001b[0;32m~/opt/anaconda3/lib/python3.8/site-packages/pandas/plotting/_matplotlib/core.py\u001b[0m in \u001b[0;36mgenerate\u001b[0;34m(self)\u001b[0m\n\u001b[1;32m    285\u001b[0m         \u001b[0;32mfor\u001b[0m \u001b[0max\u001b[0m \u001b[0;32min\u001b[0m \u001b[0mself\u001b[0m\u001b[0;34m.\u001b[0m\u001b[0maxes\u001b[0m\u001b[0;34m:\u001b[0m\u001b[0;34m\u001b[0m\u001b[0;34m\u001b[0m\u001b[0m\n\u001b[1;32m    286\u001b[0m             \u001b[0mself\u001b[0m\u001b[0;34m.\u001b[0m\u001b[0m_post_plot_logic_common\u001b[0m\u001b[0;34m(\u001b[0m\u001b[0max\u001b[0m\u001b[0;34m,\u001b[0m \u001b[0mself\u001b[0m\u001b[0;34m.\u001b[0m\u001b[0mdata\u001b[0m\u001b[0;34m)\u001b[0m\u001b[0;34m\u001b[0m\u001b[0;34m\u001b[0m\u001b[0m\n\u001b[0;32m--> 287\u001b[0;31m             \u001b[0mself\u001b[0m\u001b[0;34m.\u001b[0m\u001b[0m_post_plot_logic\u001b[0m\u001b[0;34m(\u001b[0m\u001b[0max\u001b[0m\u001b[0;34m,\u001b[0m \u001b[0mself\u001b[0m\u001b[0;34m.\u001b[0m\u001b[0mdata\u001b[0m\u001b[0;34m)\u001b[0m\u001b[0;34m\u001b[0m\u001b[0;34m\u001b[0m\u001b[0m\n\u001b[0m\u001b[1;32m    288\u001b[0m \u001b[0;34m\u001b[0m\u001b[0m\n\u001b[1;32m    289\u001b[0m     \u001b[0;32mdef\u001b[0m \u001b[0m_args_adjust\u001b[0m\u001b[0;34m(\u001b[0m\u001b[0mself\u001b[0m\u001b[0;34m)\u001b[0m\u001b[0;34m:\u001b[0m\u001b[0;34m\u001b[0m\u001b[0;34m\u001b[0m\u001b[0m\n",
      "\u001b[0;32m~/opt/anaconda3/lib/python3.8/site-packages/pandas/plotting/_matplotlib/core.py\u001b[0m in \u001b[0;36m_post_plot_logic\u001b[0;34m(self, ax, data)\u001b[0m\n\u001b[1;32m   1492\u001b[0m         \u001b[0mname\u001b[0m \u001b[0;34m=\u001b[0m \u001b[0mself\u001b[0m\u001b[0;34m.\u001b[0m\u001b[0m_get_index_name\u001b[0m\u001b[0;34m(\u001b[0m\u001b[0;34m)\u001b[0m\u001b[0;34m\u001b[0m\u001b[0;34m\u001b[0m\u001b[0m\n\u001b[1;32m   1493\u001b[0m \u001b[0;34m\u001b[0m\u001b[0m\n\u001b[0;32m-> 1494\u001b[0;31m         \u001b[0ms_edge\u001b[0m \u001b[0;34m=\u001b[0m \u001b[0mself\u001b[0m\u001b[0;34m.\u001b[0m\u001b[0max_pos\u001b[0m\u001b[0;34m[\u001b[0m\u001b[0;36m0\u001b[0m\u001b[0;34m]\u001b[0m \u001b[0;34m-\u001b[0m \u001b[0;36m0.25\u001b[0m \u001b[0;34m+\u001b[0m \u001b[0mself\u001b[0m\u001b[0;34m.\u001b[0m\u001b[0mlim_offset\u001b[0m\u001b[0;34m\u001b[0m\u001b[0;34m\u001b[0m\u001b[0m\n\u001b[0m\u001b[1;32m   1495\u001b[0m         \u001b[0me_edge\u001b[0m \u001b[0;34m=\u001b[0m \u001b[0mself\u001b[0m\u001b[0;34m.\u001b[0m\u001b[0max_pos\u001b[0m\u001b[0;34m[\u001b[0m\u001b[0;34m-\u001b[0m\u001b[0;36m1\u001b[0m\u001b[0;34m]\u001b[0m \u001b[0;34m+\u001b[0m \u001b[0;36m0.25\u001b[0m \u001b[0;34m+\u001b[0m \u001b[0mself\u001b[0m\u001b[0;34m.\u001b[0m\u001b[0mbar_width\u001b[0m \u001b[0;34m+\u001b[0m \u001b[0mself\u001b[0m\u001b[0;34m.\u001b[0m\u001b[0mlim_offset\u001b[0m\u001b[0;34m\u001b[0m\u001b[0;34m\u001b[0m\u001b[0m\n\u001b[1;32m   1496\u001b[0m \u001b[0;34m\u001b[0m\u001b[0m\n",
      "\u001b[0;31mIndexError\u001b[0m: index 0 is out of bounds for axis 0 with size 0"
     ]
    },
    {
     "data": {
      "image/png": "[encoded data removed]",
      "text/plain": [
       "<Figure size 576x720 with 1 Axes>"
      ]
     },
     "metadata": {
      "needs_background": "light"
     },
     "output_type": "display_data"
    }
   ],
   "source": [
    "utils.plot_bar(\n",
    "    data=nghbrhood_counts,\n",
    "    title=\"Neighborhood Distribution\",\n",
    "    ylabel=\"Neighborhood\",\n",
    "    ticks_range=np.arange(0.0, 0.18, 0.02),\n",
    "    labels=[\"0%\", \"2%\", \"4%\", \"6%\", \"8%\", \"10%\", \"12%\", \"14%\", \"16%\"]\n",
    ")"
   ]
  },
  {
   "cell_type": "code",
   "execution_count": null,
   "id": "79c3af4f",
   "metadata": {},
   "outputs": [],
   "source": [
    "utils.plot_box(\n",
    "    data=df, \n",
    "    x=\"SalePrice\", \n",
    "    y=\"Neighborhood\", \n",
    "    title=\"Neighborhood vs Sale Price ($)\",\n",
    "    xlabel=\"Sale Price ($)\",\n",
    "    ylabel=\"Neighborhood\"\n",
    ")"
   ]
  },
  {
   "cell_type": "code",
   "execution_count": null,
   "id": "ff39f1d4",
   "metadata": {},
   "outputs": [],
   "source": [
    "fig, ax = plt.subplots(figsize=(6, 8))\n",
    "\n",
    "# Barplot\n",
    "df.groupby(by=\"Neighborhood\")[\"SalePrice\"].mean().sort_values().plot(kind=\"barh\")\n",
    "\n",
    "# Labels\n",
    "plt.title(\"Neighborhoods Mean House Prices ($)\")\n",
    "plt.ylabel(\"Neighborhood\")\n",
    "plt.xlabel(\"Mean Sale Price ($)\")\n",
    "\n",
    "# Add x-grid lines\n",
    "plt.grid(axis=\"x\", linewidth=0.5, linestyle=\"--\");"
   ]
  },
  {
   "cell_type": "markdown",
   "id": "72d412f8",
   "metadata": {},
   "source": [
    "    Summary\n",
    "    \n",
    "    * Neighborhood affects the sale price\n",
    "    * Depending on the neighborhood a house is in, that neighborhood has a mean selling price; e.g. The avg\n",
    "    selling price of a house in NoRidge - `Northridge` is close to USD350,000 where as that of a house in\n",
    "    MeadowV `Meadow Village` is close to USD100,000."
   ]
  },
  {
   "cell_type": "markdown",
   "id": "b7078c17",
   "metadata": {},
   "source": [
    "**SalePrice vs HouseStyle**"
   ]
  },
  {
   "cell_type": "code",
   "execution_count": null,
   "id": "f9917456",
   "metadata": {},
   "outputs": [],
   "source": [
    "# What type of styles do the houses have?\n",
    "housestyle = df[\"HouseStyle\"].value_counts(normalize=True).sort_values()\n",
    "\n",
    "utils.plot_bar(\n",
    "    data=housestyle, \n",
    "    title=\"Housestyle Distribution\", \n",
    "    ylabel=\"Housestyle\",\n",
    "    ticks_range=np.arange(0.0, round(housestyle.max() + 0.1, 2), 0.1),\n",
    "    labels=[\"0%\", \"10%\", \"20%\", \"30%\", \"40%\", \"50%\"],\n",
    "    figsize=(6, 6)\n",
    ")"
   ]
  },
  {
   "cell_type": "code",
   "execution_count": null,
   "id": "eb81bd4f",
   "metadata": {},
   "outputs": [],
   "source": [
    "utils.plot_box(df, \"SalePrice\", \"HouseStyle\", \"House Style vs Sale Price ($)\", \"Sale Price (%)\", \"House Style\")"
   ]
  },
  {
   "cell_type": "markdown",
   "id": "362f51b2",
   "metadata": {},
   "source": [
    "    Summary\n",
    "    \n",
    "    * It seems `House Style` also affects the Sale Price"
   ]
  },
  {
   "cell_type": "markdown",
   "id": "3d588c03",
   "metadata": {},
   "source": [
    "**SalePrice vs OverallCond**"
   ]
  },
  {
   "cell_type": "code",
   "execution_count": null,
   "id": "f08f376e",
   "metadata": {},
   "outputs": [],
   "source": [
    "# Change dtype\n",
    "df[\"OverallCond\"] = df[\"OverallCond\"].astype('category')\n",
    "\n",
    "overall_cond = df[\"OverallCond\"].value_counts(normalize=True).sort_values()\n",
    "overall_cond"
   ]
  },
  {
   "cell_type": "code",
   "execution_count": null,
   "id": "42f964db",
   "metadata": {},
   "outputs": [],
   "source": [
    "utils.plot_bar(\n",
    "    overall_cond, \n",
    "    \"Overall Condition Distribution\",\n",
    "    \"Overall Condition\",\n",
    "    ticks_range=np.arange(0.0, overall_cond.max() + 0.1, 0.1),\n",
    "    labels=[\"0%\", \"10%\", \"20%\", \"30%\", \"40%\", \"50%\", \"60%\"],\n",
    "    figsize=(6, 6)\n",
    ")"
   ]
  },
  {
   "cell_type": "code",
   "execution_count": null,
   "id": "a7ec4fbb",
   "metadata": {},
   "outputs": [],
   "source": [
    "utils.plot_box(\n",
    "    data=df, \n",
    "    y=\"OverallCond\", \n",
    "    x=\"SalePrice\", \n",
    "    title=\"Overall Condition vs Sale Price ($)\", \n",
    "    xlabel=\"Sale Price ($)\", \n",
    "    ylabel=\"Overall Condition\"\n",
    ")"
   ]
  },
  {
   "cell_type": "markdown",
   "id": "65a5c1e3",
   "metadata": {},
   "source": [
    "    Summary\n",
    "    \n",
    "    * The better the house's condition, the higher the avg selling price"
   ]
  },
  {
   "cell_type": "markdown",
   "id": "8d912975",
   "metadata": {},
   "source": [
    "**SalePrice vs Bedroom**"
   ]
  },
  {
   "cell_type": "code",
   "execution_count": null,
   "id": "6300233e",
   "metadata": {},
   "outputs": [],
   "source": [
    "df[\"BedroomAbvGr\"] = df[\"BedroomAbvGr\"].astype('category')\n",
    "\n",
    "bedroom = df[\"BedroomAbvGr\"].value_counts(normalize=True).sort_values()\n",
    "bedroom"
   ]
  },
  {
   "cell_type": "code",
   "execution_count": null,
   "id": "10f80465",
   "metadata": {},
   "outputs": [],
   "source": [
    "utils.plot_bar(\n",
    "    bedroom, \n",
    "    \"Bedrooms Distribution\",\n",
    "    \"Bedrooms\",\n",
    "    ticks_range=np.arange(0.0, overall_cond.max() + 0.1, 0.1),\n",
    "    labels=[\"0%\", \"10%\", \"20%\", \"30%\", \"40%\", \"50%\", \"60%\"],\n",
    "    figsize=(6, 6)\n",
    ")"
   ]
  },
  {
   "cell_type": "code",
   "execution_count": null,
   "id": "80f04ecb",
   "metadata": {},
   "outputs": [],
   "source": [
    "utils.plot_box(\n",
    "    data=df, \n",
    "    y=\"BedroomAbvGr\", \n",
    "    x=\"SalePrice\", \n",
    "    title=\"Bedrooms vs Sale Price ($)\", \n",
    "    xlabel=\"Sale Price ($)\", \n",
    "    ylabel=\"Bedrooms\"\n",
    ")"
   ]
  },
  {
   "cell_type": "markdown",
   "id": "57aff354",
   "metadata": {},
   "source": [
    "    Summary\n",
    "    \n",
    "    * 75% of houses have 2 or 3 bedrooms above ground; 25% and 50% of the houses are 2-bedrooms and 3-bedrooms,\n",
    "    respectively.\n",
    "    * It looks like the number of bedrooms above ground doesn't really influence the house sale price."
   ]
  },
  {
   "cell_type": "markdown",
   "id": "03afe910",
   "metadata": {},
   "source": [
    "**SalePrice vs GarageCars**"
   ]
  },
  {
   "cell_type": "code",
   "execution_count": null,
   "id": "9969790d",
   "metadata": {},
   "outputs": [],
   "source": [
    "df[\"GarageCars\"] = df[\"GarageCars\"].astype(\"category\")\n",
    "\n",
    "garage_car_capacity = df[\"GarageCars\"].value_counts(normalize=True).sort_values()\n",
    "garage_car_capacity"
   ]
  },
  {
   "cell_type": "code",
   "execution_count": null,
   "id": "9d0a2d3e",
   "metadata": {},
   "outputs": [],
   "source": [
    "# Size of Garage (Car Capacity) Distribution\n",
    "utils.plot_bar(\n",
    "    garage_car_capacity, \n",
    "    \"Garage Car Capacity Distribution\",\n",
    "    \"Garage Car Capacity\",\n",
    "    ticks_range=np.arange(0.0, overall_cond.max() + 0.1, 0.1),\n",
    "    labels=[\"0%\", \"10%\", \"20%\", \"30%\", \"40%\", \"50%\", \"60%\"],\n",
    "    figsize=(6, 6)\n",
    ")"
   ]
  },
  {
   "cell_type": "code",
   "execution_count": null,
   "id": "1702c3f3",
   "metadata": {},
   "outputs": [],
   "source": [
    "utils.plot_box(\n",
    "    data=df, \n",
    "    y=\"GarageCars\", \n",
    "    x=\"SalePrice\", \n",
    "    title=\"Bedrooms vs Sale Price ($)\", \n",
    "    xlabel=\"Sale Price ($)\", \n",
    "    ylabel=\"Bedrooms\"\n",
    ")"
   ]
  },
  {
   "cell_type": "markdown",
   "id": "4f59c04f",
   "metadata": {},
   "source": [
    "    Summary\n",
    "    \n",
    "    * 50% of houses have a garage with a capacity of 2 cars\n",
    "    * It seems the capacity of the garage influences the sale price of a house; however, we observe that\n",
    "    as a house's garage car capacity increases from the 0 to 3, so does the sale price of the house.\n",
    "    * In the visual, we see that the selling price of houses with a garage car capacity of 4 is slightly doesn't\n",
    "    follow the trend; looking at the distribution, it looks more like there are not many houses with this\n",
    "    car capacity and that which was available had a price that was slightly lower."
   ]
  },
  {
   "cell_type": "code",
   "execution_count": null,
   "id": "6933c13f",
   "metadata": {},
   "outputs": [],
   "source": [
    "# Houses with a Garage Car Capacity of 4\n",
    "df[df[\"GarageCars\"] == 4]"
   ]
  },
  {
   "cell_type": "markdown",
   "id": "5ebafa93",
   "metadata": {},
   "source": [
    "**Correlation Matrix**"
   ]
  },
  {
   "cell_type": "markdown",
   "id": "719384bd",
   "metadata": {},
   "source": [
    "    Here, we will explore the relationships in our data by calculating the correlation between them. This will\n",
    "    enable us to see which features influence `SalePrice` and how, and which features are correlated with each\n",
    "    other."
   ]
  },
  {
   "cell_type": "code",
   "execution_count": null,
   "id": "a34ec768",
   "metadata": {},
   "outputs": [],
   "source": [
    "# Correlation\n",
    "corr = df.corr()"
   ]
  },
  {
   "cell_type": "code",
   "execution_count": null,
   "id": "d09db8b4",
   "metadata": {},
   "outputs": [],
   "source": [
    "# Draw Axis\n",
    "fig, ax = plt.subplots(figsize=(12, 10))\n",
    "\n",
    "# HeatMap\n",
    "sns.heatmap(corr, vmax=.8, square=True);"
   ]
  },
  {
   "cell_type": "markdown",
   "id": "8411e61b",
   "metadata": {},
   "source": [
    "    Summary\n",
    "    \n",
    "    * From a first glass, we see that `TotalBsmtSF` and `1stFlrSF` are highly correlated with each other; \n",
    "    multi-collinearity exists here. We can drop-off the feature with the smallest correlation between the two.\n",
    "    * We also observe multi-collinearity on the features `OverallQual` <> `YearBuilt.` This makes sense; the\n",
    "    overall quality of a house correlates with the year it was built; we'd expect a house built in 2022 to be \n",
    "    of good quality compared that built in the year 1990.\n",
    "    \n",
    "    * We also observe that SalePrice is correlated with `OverallQual`, `TotalBsmtSF`, `GarageArea`, \n",
    "    and `GrLivArea` - features we identified in our initial analysis."
   ]
  },
  {
   "cell_type": "code",
   "execution_count": null,
   "id": "ab6fdc20",
   "metadata": {},
   "outputs": [],
   "source": [
    "# Pick 10 highest correlated features\n",
    "cols = corr.nlargest(10, 'SalePrice')[\"SalePrice\"].index\n",
    "# Calculate corr among those features\n",
    "sale_price_top10_corr = df[cols].corr()\n",
    "\n",
    "# Draw Axis\n",
    "fig, ax = plt.subplots(figsize=(10, 8))\n",
    "# Heatmap\n",
    "sns.heatmap(sale_price_top10_corr, annot=True)\n",
    "plt.show();"
   ]
  },
  {
   "cell_type": "markdown",
   "id": "f86cb7c6",
   "metadata": {},
   "source": [
    "    The following are the 10 most correlated features:\n",
    "    \n",
    "    * `OverallQual`, `GrLivArea` and `GarageArea` are the most correlated features with `SalePrice`.\n",
    "    * `GrLivArea` <> `TotRmsAbvGrd` and `TotalBsmtSF` <> `1stFlrSF` are correlated between themselves; this\n",
    "    indicates multi-collinearity. Therefore, we remove the least correlated features to `SalePrice` in the\n",
    "    pairs."
   ]
  },
  {
   "cell_type": "markdown",
   "id": "21e5531e",
   "metadata": {},
   "source": [
    "**Scatter plots between `SalePrice` and correlated variables**"
   ]
  },
  {
   "cell_type": "code",
   "execution_count": null,
   "id": "81ab4902",
   "metadata": {},
   "outputs": [],
   "source": [
    "sns.set()\n",
    "\n",
    "# Most correlated features\n",
    "corr_feats = [\"SalePrice\", \"OverallQual\", \"GrLivArea\", \"GarageArea\", \"TotalBsmtSF\", \"FullBath\", \"YearRemodAdd\"]\n",
    "# Pairplots\n",
    "sns.pairplot(df[corr_feats]);"
   ]
  },
  {
   "cell_type": "markdown",
   "id": "274abc57",
   "metadata": {},
   "source": [
    "**Missing Data**\n",
    "\n",
    "- How prevelant is the missing data?\n",
    "- Is missing data random or does it have a pattern?"
   ]
  },
  {
   "cell_type": "code",
   "execution_count": null,
   "id": "ed892197",
   "metadata": {},
   "outputs": [],
   "source": [
    "# Number of missing values per column\n",
    "total = df.isna().sum().sort_values(ascending=False)\n",
    "# Percent of missing values per column\n",
    "percent = ((df.isna().sum() / df.isna().count())).sort_values(ascending=False)\n",
    "\n",
    "# Missing Data: DF\n",
    "missing_data = pd.DataFrame(data={\n",
    "    \"Total\": total,\n",
    "    \"Percent\": percent\n",
    "})\n",
    "\n",
    "missing_data.head(20)"
   ]
  },
  {
   "cell_type": "markdown",
   "id": "3560795e",
   "metadata": {},
   "source": [
    "    Analysis\n",
    "    \n",
    "    * The features `PoolQC`, `MiscFeature`, `Alley`, etc have over 80% of the data missing; these features should\n",
    "    be dropped from other data.\n",
    "    * The garage features `GarageCond`, `GarageQual`, etc are missing 81 data points; it could be that the houses\n",
    "    corresponding to these features didn't have a garage.\n",
    "    * Same for the basement and masonry features.\n",
    "    * Electical is only missing 1 data point, so we will remove this observations\n",
    "    \n",
    "    In general, if a feature has more than 15% of data missing, we will delete it. Otherwise, we will keep it,\n",
    "    delete entries with those missing data points or try out imputation strategies."
   ]
  },
  {
   "cell_type": "code",
   "execution_count": null,
   "id": "2deb0cee",
   "metadata": {},
   "outputs": [],
   "source": [
    "# percent_missing_data = (df.isna().sum() / df.isna().count()).sort_values(ascending=False)\n",
    "# missing_data_cols = percent_missing_data[percent_missing_data > 0.15].index\n",
    "# df.drop(columns=missing_data_cols)"
   ]
  },
  {
   "cell_type": "code",
   "execution_count": null,
   "id": "7f236f2b",
   "metadata": {},
   "outputs": [],
   "source": [
    "df.dropna()"
   ]
  },
  {
   "cell_type": "code",
   "execution_count": null,
   "id": "a1c4c601",
   "metadata": {},
   "outputs": [],
   "source": []
  }
 ],
 "metadata": {
  "kernelspec": {
   "display_name": "Python 3",
   "language": "python",
   "name": "python3"
  },
  "language_info": {
   "codemirror_mode": {
    "name": "ipython",
    "version": 3
   },
   "file_extension": ".py",
   "mimetype": "text/x-python",
   "name": "python",
   "nbconvert_exporter": "python",
   "pygments_lexer": "ipython3",
   "version": "3.8.8"
  }
 },
 "nbformat": 4,
 "nbformat_minor": 5
}
