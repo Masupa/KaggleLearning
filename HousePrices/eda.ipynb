{
 "cells": [
  {
   "cell_type": "markdown",
   "id": "ecbfcb27",
   "metadata": {},
   "source": [
    "### Exploratory Data Analysis"
   ]
  },
  {
   "cell_type": "markdown",
   "id": "6c1ad038",
   "metadata": {},
   "source": [
    "    Given any sort of raw data, the first thing I'll try to do is understand the data, as it comprises the\n",
    "    raw materials from which the solution will be built. Given that the task is to predict a house's sale\n",
    "    price, we want to understand the prices of the houses we are looking at, and look at how each of \n",
    "    the data points available influence the house price.\n",
    "    \n",
    "    This analysis will help provide insights that will serve in how we clean, prepare and transform the data,\n",
    "    prior to modelling the problem.\n",
    "    \n",
    "    To inform a disciplined study of the problem, we will go through the following processes:\n",
    "    \n",
    "    1. Univariate Analysis: In this step, we will focus on `SalePrice` to try to know a little bit about it\n",
    "    \n",
    "    ... Documenting steps as I go through each..."
   ]
  },
  {
   "cell_type": "markdown",
   "id": "bc4eb2cd",
   "metadata": {},
   "source": [
    "**Exploratory Data Analysis:**\n",
    "\n",
    "    1. Understand the problem: We will look at each variable and do a philosophical analysis about their \n",
    "       meaning and importance for this problem\n",
    "    2. Univariable study. We'll just focus on the dependent variable ('SalePrice') and try to know a \n",
    "       little bit more about it.\n",
    "    3. Multivariate study. We'll try to understand how the dependent variable and independent variables relate.\n",
    "    4. Basic cleaning. We'll clean the dataset and handle the missing data, outliers and categorical variables.\n",
    "    5. Test assumptions. We'll check if our data meets the assumptions required by most multivariate techniques."
   ]
  },
  {
   "cell_type": "markdown",
   "id": "42648b76",
   "metadata": {},
   "source": [
    "**Import Packages**"
   ]
  },
  {
   "cell_type": "code",
   "execution_count": 1,
   "id": "5ba9777b",
   "metadata": {},
   "outputs": [],
   "source": [
    "import numpy as np\n",
    "import pandas as pd\n",
    "import seaborn as sns\n",
    "import matplotlib.pyplot as plt\n",
    "\n",
    "from scipy import stats\n",
    "from sklearn.preprocessing import StandardScaler\n",
    "\n",
    "import utils"
   ]
  },
  {
   "cell_type": "code",
   "execution_count": 2,
   "id": "0e054996",
   "metadata": {},
   "outputs": [],
   "source": [
    "%matplotlib inline"
   ]
  },
  {
   "cell_type": "code",
   "execution_count": 3,
   "id": "d12a7cf3",
   "metadata": {},
   "outputs": [],
   "source": [
    "# Seaborn Settings\n",
    "sns.set() # Theme"
   ]
  },
  {
   "cell_type": "markdown",
   "id": "8bfa177a",
   "metadata": {},
   "source": [
    "### Prepare Data"
   ]
  },
  {
   "cell_type": "markdown",
   "id": "a5a23a24",
   "metadata": {},
   "source": [
    "#### Import Data"
   ]
  },
  {
   "cell_type": "code",
   "execution_count": 4,
   "id": "68a1d35d",
   "metadata": {},
   "outputs": [],
   "source": [
    "def wrangle_data(data_path):\n",
    "    \"\"\"Given a data - stored in a particular file-path - import\n",
    "    and manipulate data set for easier analysis\n",
    "    \n",
    "    Parameters:\n",
    "    -----------\n",
    "    data_path : str\n",
    "        File path to the data source\n",
    "        \n",
    "    Returns:\n",
    "    --------\n",
    "    df : pd.DataFrame\n",
    "        A pandas DataFrame\n",
    "    \"\"\"\n",
    "    \n",
    "    # Import data (from csv file)\n",
    "    df = pd.read_csv(data_path)\n",
    "    \n",
    "    # Drop `low-high cardinality` features\n",
    "    drop_cols = [\"Id\"]\n",
    "    \n",
    "    \n",
    "    \n",
    "    # Drop features\n",
    "    df.drop(columns=drop_cols, inplace=True)\n",
    "    \n",
    "    return df"
   ]
  },
  {
   "cell_type": "code",
   "execution_count": 5,
   "id": "5de3a2d8",
   "metadata": {},
   "outputs": [],
   "source": [
    "#     # Drop `Multi-collinearity` features\n",
    "#     drop_cols = [\"1stFlrSF\", \"YearBuilt\", \"TotRmsAbvGrd\"]\n",
    "    \n",
    "#     # Drop `low-and-high cardinality` features\n",
    "#     drop_cols.append(\"Id\")\n",
    "    \n",
    "#     # Find and drop features > 15% missing data\n",
    "#     percent_missing_data = (df.isna().sum() / df.isna().count()).sort_values(ascending=False)\n",
    "#     missing_data_cols = percent_missing_data[percent_missing_data > 0.15].index\n",
    "#     drop_cols.extend(missing_data_cols)\n",
    "    \n",
    "#     # Drop obversations with NaN\n",
    "# #     df.dropna(inplace=True)\n",
    "    \n",
    "    \n",
    "#     # Drop Columns\n",
    "#     df.drop(columns=drop_cols, inplace=True)"
   ]
  },
  {
   "cell_type": "code",
   "execution_count": 6,
   "id": "fe6f2eac",
   "metadata": {},
   "outputs": [
    {
     "data": {
      "text/html": [
       "<div>\n",
       "<style scoped>\n",
       "    .dataframe tbody tr th:only-of-type {\n",
       "        vertical-align: middle;\n",
       "    }\n",
       "\n",
       "    .dataframe tbody tr th {\n",
       "        vertical-align: top;\n",
       "    }\n",
       "\n",
       "    .dataframe thead th {\n",
       "        text-align: right;\n",
       "    }\n",
       "</style>\n",
       "<table border=\"1\" class=\"dataframe\">\n",
       "  <thead>\n",
       "    <tr style=\"text-align: right;\">\n",
       "      <th></th>\n",
       "      <th>MSSubClass</th>\n",
       "      <th>MSZoning</th>\n",
       "      <th>LotFrontage</th>\n",
       "      <th>LotArea</th>\n",
       "      <th>Street</th>\n",
       "      <th>Alley</th>\n",
       "      <th>LotShape</th>\n",
       "      <th>LandContour</th>\n",
       "      <th>Utilities</th>\n",
       "      <th>LotConfig</th>\n",
       "      <th>...</th>\n",
       "      <th>PoolArea</th>\n",
       "      <th>PoolQC</th>\n",
       "      <th>Fence</th>\n",
       "      <th>MiscFeature</th>\n",
       "      <th>MiscVal</th>\n",
       "      <th>MoSold</th>\n",
       "      <th>YrSold</th>\n",
       "      <th>SaleType</th>\n",
       "      <th>SaleCondition</th>\n",
       "      <th>SalePrice</th>\n",
       "    </tr>\n",
       "  </thead>\n",
       "  <tbody>\n",
       "    <tr>\n",
       "      <th>0</th>\n",
       "      <td>60</td>\n",
       "      <td>RL</td>\n",
       "      <td>65.0</td>\n",
       "      <td>8450</td>\n",
       "      <td>Pave</td>\n",
       "      <td>NaN</td>\n",
       "      <td>Reg</td>\n",
       "      <td>Lvl</td>\n",
       "      <td>AllPub</td>\n",
       "      <td>Inside</td>\n",
       "      <td>...</td>\n",
       "      <td>0</td>\n",
       "      <td>NaN</td>\n",
       "      <td>NaN</td>\n",
       "      <td>NaN</td>\n",
       "      <td>0</td>\n",
       "      <td>2</td>\n",
       "      <td>2008</td>\n",
       "      <td>WD</td>\n",
       "      <td>Normal</td>\n",
       "      <td>208500</td>\n",
       "    </tr>\n",
       "    <tr>\n",
       "      <th>1</th>\n",
       "      <td>20</td>\n",
       "      <td>RL</td>\n",
       "      <td>80.0</td>\n",
       "      <td>9600</td>\n",
       "      <td>Pave</td>\n",
       "      <td>NaN</td>\n",
       "      <td>Reg</td>\n",
       "      <td>Lvl</td>\n",
       "      <td>AllPub</td>\n",
       "      <td>FR2</td>\n",
       "      <td>...</td>\n",
       "      <td>0</td>\n",
       "      <td>NaN</td>\n",
       "      <td>NaN</td>\n",
       "      <td>NaN</td>\n",
       "      <td>0</td>\n",
       "      <td>5</td>\n",
       "      <td>2007</td>\n",
       "      <td>WD</td>\n",
       "      <td>Normal</td>\n",
       "      <td>181500</td>\n",
       "    </tr>\n",
       "    <tr>\n",
       "      <th>2</th>\n",
       "      <td>60</td>\n",
       "      <td>RL</td>\n",
       "      <td>68.0</td>\n",
       "      <td>11250</td>\n",
       "      <td>Pave</td>\n",
       "      <td>NaN</td>\n",
       "      <td>IR1</td>\n",
       "      <td>Lvl</td>\n",
       "      <td>AllPub</td>\n",
       "      <td>Inside</td>\n",
       "      <td>...</td>\n",
       "      <td>0</td>\n",
       "      <td>NaN</td>\n",
       "      <td>NaN</td>\n",
       "      <td>NaN</td>\n",
       "      <td>0</td>\n",
       "      <td>9</td>\n",
       "      <td>2008</td>\n",
       "      <td>WD</td>\n",
       "      <td>Normal</td>\n",
       "      <td>223500</td>\n",
       "    </tr>\n",
       "    <tr>\n",
       "      <th>3</th>\n",
       "      <td>70</td>\n",
       "      <td>RL</td>\n",
       "      <td>60.0</td>\n",
       "      <td>9550</td>\n",
       "      <td>Pave</td>\n",
       "      <td>NaN</td>\n",
       "      <td>IR1</td>\n",
       "      <td>Lvl</td>\n",
       "      <td>AllPub</td>\n",
       "      <td>Corner</td>\n",
       "      <td>...</td>\n",
       "      <td>0</td>\n",
       "      <td>NaN</td>\n",
       "      <td>NaN</td>\n",
       "      <td>NaN</td>\n",
       "      <td>0</td>\n",
       "      <td>2</td>\n",
       "      <td>2006</td>\n",
       "      <td>WD</td>\n",
       "      <td>Abnorml</td>\n",
       "      <td>140000</td>\n",
       "    </tr>\n",
       "    <tr>\n",
       "      <th>4</th>\n",
       "      <td>60</td>\n",
       "      <td>RL</td>\n",
       "      <td>84.0</td>\n",
       "      <td>14260</td>\n",
       "      <td>Pave</td>\n",
       "      <td>NaN</td>\n",
       "      <td>IR1</td>\n",
       "      <td>Lvl</td>\n",
       "      <td>AllPub</td>\n",
       "      <td>FR2</td>\n",
       "      <td>...</td>\n",
       "      <td>0</td>\n",
       "      <td>NaN</td>\n",
       "      <td>NaN</td>\n",
       "      <td>NaN</td>\n",
       "      <td>0</td>\n",
       "      <td>12</td>\n",
       "      <td>2008</td>\n",
       "      <td>WD</td>\n",
       "      <td>Normal</td>\n",
       "      <td>250000</td>\n",
       "    </tr>\n",
       "  </tbody>\n",
       "</table>\n",
       "<p>5 rows × 80 columns</p>\n",
       "</div>"
      ],
      "text/plain": [
       "   MSSubClass MSZoning  LotFrontage  LotArea Street Alley LotShape  \\\n",
       "0          60       RL         65.0     8450   Pave   NaN      Reg   \n",
       "1          20       RL         80.0     9600   Pave   NaN      Reg   \n",
       "2          60       RL         68.0    11250   Pave   NaN      IR1   \n",
       "3          70       RL         60.0     9550   Pave   NaN      IR1   \n",
       "4          60       RL         84.0    14260   Pave   NaN      IR1   \n",
       "\n",
       "  LandContour Utilities LotConfig  ... PoolArea PoolQC Fence MiscFeature  \\\n",
       "0         Lvl    AllPub    Inside  ...        0    NaN   NaN         NaN   \n",
       "1         Lvl    AllPub       FR2  ...        0    NaN   NaN         NaN   \n",
       "2         Lvl    AllPub    Inside  ...        0    NaN   NaN         NaN   \n",
       "3         Lvl    AllPub    Corner  ...        0    NaN   NaN         NaN   \n",
       "4         Lvl    AllPub       FR2  ...        0    NaN   NaN         NaN   \n",
       "\n",
       "  MiscVal MoSold  YrSold  SaleType  SaleCondition  SalePrice  \n",
       "0       0      2    2008        WD         Normal     208500  \n",
       "1       0      5    2007        WD         Normal     181500  \n",
       "2       0      9    2008        WD         Normal     223500  \n",
       "3       0      2    2006        WD        Abnorml     140000  \n",
       "4       0     12    2008        WD         Normal     250000  \n",
       "\n",
       "[5 rows x 80 columns]"
      ]
     },
     "execution_count": 6,
     "metadata": {},
     "output_type": "execute_result"
    }
   ],
   "source": [
    "df = wrangle_data(\"data/train.csv\")\n",
    "df.head()"
   ]
  },
  {
   "cell_type": "code",
   "execution_count": 7,
   "id": "137a50f4",
   "metadata": {},
   "outputs": [
    {
     "data": {
      "text/html": [
       "<div>\n",
       "<style scoped>\n",
       "    .dataframe tbody tr th:only-of-type {\n",
       "        vertical-align: middle;\n",
       "    }\n",
       "\n",
       "    .dataframe tbody tr th {\n",
       "        vertical-align: top;\n",
       "    }\n",
       "\n",
       "    .dataframe thead th {\n",
       "        text-align: right;\n",
       "    }\n",
       "</style>\n",
       "<table border=\"1\" class=\"dataframe\">\n",
       "  <thead>\n",
       "    <tr style=\"text-align: right;\">\n",
       "      <th></th>\n",
       "      <th>MSSubClass</th>\n",
       "      <th>MSZoning</th>\n",
       "      <th>LotFrontage</th>\n",
       "      <th>LotArea</th>\n",
       "      <th>Street</th>\n",
       "      <th>Alley</th>\n",
       "      <th>LotShape</th>\n",
       "      <th>LandContour</th>\n",
       "      <th>Utilities</th>\n",
       "      <th>LotConfig</th>\n",
       "      <th>...</th>\n",
       "      <th>PoolArea</th>\n",
       "      <th>PoolQC</th>\n",
       "      <th>Fence</th>\n",
       "      <th>MiscFeature</th>\n",
       "      <th>MiscVal</th>\n",
       "      <th>MoSold</th>\n",
       "      <th>YrSold</th>\n",
       "      <th>SaleType</th>\n",
       "      <th>SaleCondition</th>\n",
       "      <th>SalePrice</th>\n",
       "    </tr>\n",
       "  </thead>\n",
       "  <tbody>\n",
       "    <tr>\n",
       "      <th>1455</th>\n",
       "      <td>60</td>\n",
       "      <td>RL</td>\n",
       "      <td>62.0</td>\n",
       "      <td>7917</td>\n",
       "      <td>Pave</td>\n",
       "      <td>NaN</td>\n",
       "      <td>Reg</td>\n",
       "      <td>Lvl</td>\n",
       "      <td>AllPub</td>\n",
       "      <td>Inside</td>\n",
       "      <td>...</td>\n",
       "      <td>0</td>\n",
       "      <td>NaN</td>\n",
       "      <td>NaN</td>\n",
       "      <td>NaN</td>\n",
       "      <td>0</td>\n",
       "      <td>8</td>\n",
       "      <td>2007</td>\n",
       "      <td>WD</td>\n",
       "      <td>Normal</td>\n",
       "      <td>175000</td>\n",
       "    </tr>\n",
       "    <tr>\n",
       "      <th>1456</th>\n",
       "      <td>20</td>\n",
       "      <td>RL</td>\n",
       "      <td>85.0</td>\n",
       "      <td>13175</td>\n",
       "      <td>Pave</td>\n",
       "      <td>NaN</td>\n",
       "      <td>Reg</td>\n",
       "      <td>Lvl</td>\n",
       "      <td>AllPub</td>\n",
       "      <td>Inside</td>\n",
       "      <td>...</td>\n",
       "      <td>0</td>\n",
       "      <td>NaN</td>\n",
       "      <td>MnPrv</td>\n",
       "      <td>NaN</td>\n",
       "      <td>0</td>\n",
       "      <td>2</td>\n",
       "      <td>2010</td>\n",
       "      <td>WD</td>\n",
       "      <td>Normal</td>\n",
       "      <td>210000</td>\n",
       "    </tr>\n",
       "    <tr>\n",
       "      <th>1457</th>\n",
       "      <td>70</td>\n",
       "      <td>RL</td>\n",
       "      <td>66.0</td>\n",
       "      <td>9042</td>\n",
       "      <td>Pave</td>\n",
       "      <td>NaN</td>\n",
       "      <td>Reg</td>\n",
       "      <td>Lvl</td>\n",
       "      <td>AllPub</td>\n",
       "      <td>Inside</td>\n",
       "      <td>...</td>\n",
       "      <td>0</td>\n",
       "      <td>NaN</td>\n",
       "      <td>GdPrv</td>\n",
       "      <td>Shed</td>\n",
       "      <td>2500</td>\n",
       "      <td>5</td>\n",
       "      <td>2010</td>\n",
       "      <td>WD</td>\n",
       "      <td>Normal</td>\n",
       "      <td>266500</td>\n",
       "    </tr>\n",
       "    <tr>\n",
       "      <th>1458</th>\n",
       "      <td>20</td>\n",
       "      <td>RL</td>\n",
       "      <td>68.0</td>\n",
       "      <td>9717</td>\n",
       "      <td>Pave</td>\n",
       "      <td>NaN</td>\n",
       "      <td>Reg</td>\n",
       "      <td>Lvl</td>\n",
       "      <td>AllPub</td>\n",
       "      <td>Inside</td>\n",
       "      <td>...</td>\n",
       "      <td>0</td>\n",
       "      <td>NaN</td>\n",
       "      <td>NaN</td>\n",
       "      <td>NaN</td>\n",
       "      <td>0</td>\n",
       "      <td>4</td>\n",
       "      <td>2010</td>\n",
       "      <td>WD</td>\n",
       "      <td>Normal</td>\n",
       "      <td>142125</td>\n",
       "    </tr>\n",
       "    <tr>\n",
       "      <th>1459</th>\n",
       "      <td>20</td>\n",
       "      <td>RL</td>\n",
       "      <td>75.0</td>\n",
       "      <td>9937</td>\n",
       "      <td>Pave</td>\n",
       "      <td>NaN</td>\n",
       "      <td>Reg</td>\n",
       "      <td>Lvl</td>\n",
       "      <td>AllPub</td>\n",
       "      <td>Inside</td>\n",
       "      <td>...</td>\n",
       "      <td>0</td>\n",
       "      <td>NaN</td>\n",
       "      <td>NaN</td>\n",
       "      <td>NaN</td>\n",
       "      <td>0</td>\n",
       "      <td>6</td>\n",
       "      <td>2008</td>\n",
       "      <td>WD</td>\n",
       "      <td>Normal</td>\n",
       "      <td>147500</td>\n",
       "    </tr>\n",
       "  </tbody>\n",
       "</table>\n",
       "<p>5 rows × 80 columns</p>\n",
       "</div>"
      ],
      "text/plain": [
       "      MSSubClass MSZoning  LotFrontage  LotArea Street Alley LotShape  \\\n",
       "1455          60       RL         62.0     7917   Pave   NaN      Reg   \n",
       "1456          20       RL         85.0    13175   Pave   NaN      Reg   \n",
       "1457          70       RL         66.0     9042   Pave   NaN      Reg   \n",
       "1458          20       RL         68.0     9717   Pave   NaN      Reg   \n",
       "1459          20       RL         75.0     9937   Pave   NaN      Reg   \n",
       "\n",
       "     LandContour Utilities LotConfig  ... PoolArea PoolQC  Fence MiscFeature  \\\n",
       "1455         Lvl    AllPub    Inside  ...        0    NaN    NaN         NaN   \n",
       "1456         Lvl    AllPub    Inside  ...        0    NaN  MnPrv         NaN   \n",
       "1457         Lvl    AllPub    Inside  ...        0    NaN  GdPrv        Shed   \n",
       "1458         Lvl    AllPub    Inside  ...        0    NaN    NaN         NaN   \n",
       "1459         Lvl    AllPub    Inside  ...        0    NaN    NaN         NaN   \n",
       "\n",
       "     MiscVal MoSold  YrSold  SaleType  SaleCondition  SalePrice  \n",
       "1455       0      8    2007        WD         Normal     175000  \n",
       "1456       0      2    2010        WD         Normal     210000  \n",
       "1457    2500      5    2010        WD         Normal     266500  \n",
       "1458       0      4    2010        WD         Normal     142125  \n",
       "1459       0      6    2008        WD         Normal     147500  \n",
       "\n",
       "[5 rows x 80 columns]"
      ]
     },
     "execution_count": 7,
     "metadata": {},
     "output_type": "execute_result"
    }
   ],
   "source": [
    "df.tail()"
   ]
  },
  {
   "cell_type": "code",
   "execution_count": 8,
   "id": "a5b8d1ae",
   "metadata": {},
   "outputs": [
    {
     "data": {
      "text/plain": [
       "(1460, 80)"
      ]
     },
     "execution_count": 8,
     "metadata": {},
     "output_type": "execute_result"
    }
   ],
   "source": [
    "df.shape"
   ]
  },
  {
   "cell_type": "code",
   "execution_count": 9,
   "id": "b0272072",
   "metadata": {},
   "outputs": [
    {
     "name": "stdout",
     "output_type": "stream",
     "text": [
      "<class 'pandas.core.frame.DataFrame'>\n",
      "RangeIndex: 1460 entries, 0 to 1459\n",
      "Data columns (total 80 columns):\n",
      " #   Column         Non-Null Count  Dtype  \n",
      "---  ------         --------------  -----  \n",
      " 0   MSSubClass     1460 non-null   int64  \n",
      " 1   MSZoning       1460 non-null   object \n",
      " 2   LotFrontage    1201 non-null   float64\n",
      " 3   LotArea        1460 non-null   int64  \n",
      " 4   Street         1460 non-null   object \n",
      " 5   Alley          91 non-null     object \n",
      " 6   LotShape       1460 non-null   object \n",
      " 7   LandContour    1460 non-null   object \n",
      " 8   Utilities      1460 non-null   object \n",
      " 9   LotConfig      1460 non-null   object \n",
      " 10  LandSlope      1460 non-null   object \n",
      " 11  Neighborhood   1460 non-null   object \n",
      " 12  Condition1     1460 non-null   object \n",
      " 13  Condition2     1460 non-null   object \n",
      " 14  BldgType       1460 non-null   object \n",
      " 15  HouseStyle     1460 non-null   object \n",
      " 16  OverallQual    1460 non-null   int64  \n",
      " 17  OverallCond    1460 non-null   int64  \n",
      " 18  YearBuilt      1460 non-null   int64  \n",
      " 19  YearRemodAdd   1460 non-null   int64  \n",
      " 20  RoofStyle      1460 non-null   object \n",
      " 21  RoofMatl       1460 non-null   object \n",
      " 22  Exterior1st    1460 non-null   object \n",
      " 23  Exterior2nd    1460 non-null   object \n",
      " 24  MasVnrType     1452 non-null   object \n",
      " 25  MasVnrArea     1452 non-null   float64\n",
      " 26  ExterQual      1460 non-null   object \n",
      " 27  ExterCond      1460 non-null   object \n",
      " 28  Foundation     1460 non-null   object \n",
      " 29  BsmtQual       1423 non-null   object \n",
      " 30  BsmtCond       1423 non-null   object \n",
      " 31  BsmtExposure   1422 non-null   object \n",
      " 32  BsmtFinType1   1423 non-null   object \n",
      " 33  BsmtFinSF1     1460 non-null   int64  \n",
      " 34  BsmtFinType2   1422 non-null   object \n",
      " 35  BsmtFinSF2     1460 non-null   int64  \n",
      " 36  BsmtUnfSF      1460 non-null   int64  \n",
      " 37  TotalBsmtSF    1460 non-null   int64  \n",
      " 38  Heating        1460 non-null   object \n",
      " 39  HeatingQC      1460 non-null   object \n",
      " 40  CentralAir     1460 non-null   object \n",
      " 41  Electrical     1459 non-null   object \n",
      " 42  1stFlrSF       1460 non-null   int64  \n",
      " 43  2ndFlrSF       1460 non-null   int64  \n",
      " 44  LowQualFinSF   1460 non-null   int64  \n",
      " 45  GrLivArea      1460 non-null   int64  \n",
      " 46  BsmtFullBath   1460 non-null   int64  \n",
      " 47  BsmtHalfBath   1460 non-null   int64  \n",
      " 48  FullBath       1460 non-null   int64  \n",
      " 49  HalfBath       1460 non-null   int64  \n",
      " 50  BedroomAbvGr   1460 non-null   int64  \n",
      " 51  KitchenAbvGr   1460 non-null   int64  \n",
      " 52  KitchenQual    1460 non-null   object \n",
      " 53  TotRmsAbvGrd   1460 non-null   int64  \n",
      " 54  Functional     1460 non-null   object \n",
      " 55  Fireplaces     1460 non-null   int64  \n",
      " 56  FireplaceQu    770 non-null    object \n",
      " 57  GarageType     1379 non-null   object \n",
      " 58  GarageYrBlt    1379 non-null   float64\n",
      " 59  GarageFinish   1379 non-null   object \n",
      " 60  GarageCars     1460 non-null   int64  \n",
      " 61  GarageArea     1460 non-null   int64  \n",
      " 62  GarageQual     1379 non-null   object \n",
      " 63  GarageCond     1379 non-null   object \n",
      " 64  PavedDrive     1460 non-null   object \n",
      " 65  WoodDeckSF     1460 non-null   int64  \n",
      " 66  OpenPorchSF    1460 non-null   int64  \n",
      " 67  EnclosedPorch  1460 non-null   int64  \n",
      " 68  3SsnPorch      1460 non-null   int64  \n",
      " 69  ScreenPorch    1460 non-null   int64  \n",
      " 70  PoolArea       1460 non-null   int64  \n",
      " 71  PoolQC         7 non-null      object \n",
      " 72  Fence          281 non-null    object \n",
      " 73  MiscFeature    54 non-null     object \n",
      " 74  MiscVal        1460 non-null   int64  \n",
      " 75  MoSold         1460 non-null   int64  \n",
      " 76  YrSold         1460 non-null   int64  \n",
      " 77  SaleType       1460 non-null   object \n",
      " 78  SaleCondition  1460 non-null   object \n",
      " 79  SalePrice      1460 non-null   int64  \n",
      "dtypes: float64(3), int64(34), object(43)\n",
      "memory usage: 912.6+ KB\n"
     ]
    }
   ],
   "source": [
    "df.info()"
   ]
  },
  {
   "cell_type": "markdown",
   "id": "0bf93d33",
   "metadata": {},
   "source": [
    "    Observations\n",
    "    \n",
    "    Our dataset has 1,460 observations and 71 features (or data-points). One thing we will need to check\n",
    "    is where the number of observations are unique and not duplicated. Further, given that the dataset\n",
    "    contains 71 data-points, we will have to find a way to analysis this data for data points that are \n",
    "    relevant to predicting sale price.\n",
    "    \n",
    "    In some sort of way, we will need to conduct features selection; this will be done gradually through\n",
    "    out this analysis."
   ]
  },
  {
   "cell_type": "markdown",
   "id": "10762e46",
   "metadata": {},
   "source": [
    "    💡 By looking at the data-info, we observe that PoolQC, Fence, MiscFeature, FireplaceQu, Alley, etc\n",
    "    have a lot of missing values in them. Therefore, we will need to handle these missing values in the\n",
    "    process.\n",
    "    \n",
    "    💡 Feature `Id` looks like it represents a count of the observations; we will have to delete this as\n",
    "    it provides no meaning to the problem."
   ]
  },
  {
   "cell_type": "code",
   "execution_count": 10,
   "id": "e8f6699f",
   "metadata": {},
   "outputs": [],
   "source": [
    "# Drop \"Id\" columns\n",
    "# df.drop(columns=\"Id\", inplace=True)"
   ]
  },
  {
   "cell_type": "markdown",
   "id": "753636e9",
   "metadata": {},
   "source": []
  },
  {
   "cell_type": "markdown",
   "id": "f76017bb",
   "metadata": {},
   "source": [
    "    In order to understand our data, we will look at each variable and try to understand its meaning\n",
    "    and relevance to this problem.\n",
    "    \n",
    "    In order to have some discipline in my analysis, I've adopted the idea of creating a spreadsheet\n",
    "    with the following columns:\n",
    "    \n",
    "    1. Variable: Variable name\n",
    "    2. Type: Variable's type; either `numerical` - int, float or `categorical` - for categorical values\n",
    "    3. Segment: Identification of the variable's segment. We define three possible segments: building, \n",
    "       space or location.\n",
    "    4. Expectation: Our expectation about the variable influence in `SalePrice.` We can define a categorical\n",
    "       scale of `High`, `Medium` or `Low`\n",
    "    5. Conclusion: Our conclusions about the importance of the variable, after we give a quick look at the\n",
    "       data. We can define a categorical scale of `High`, `Medium` or `Low`.\n",
    "    6. Comments: Any general comments"
   ]
  },
  {
   "cell_type": "markdown",
   "id": "d4d6e1ba",
   "metadata": {},
   "source": [
    "Analyst found here - [Spreadsheet](https://docs.google.com/spreadsheets/d/1HXOq9GMguCRamvw5YH8CQJececkYsrNYrpygL_pMJ3M/edit?usp=sharing)"
   ]
  },
  {
   "cell_type": "markdown",
   "id": "83320f7b",
   "metadata": {},
   "source": [
    "    After a subjective and research analysis of each variable's relevance to `SalePrice`,\n",
    "    I ended up with the following features:"
   ]
  },
  {
   "cell_type": "markdown",
   "id": "1c635b1c",
   "metadata": {},
   "source": [
    "|Feature|Expectation|Comments|\n",
    "|-------|-----------|-------|\n",
    "|MSZoning|High|We'd expect the zoning classification to incluenece the price of a house. E.g. With all otherfactors constant, a home in commercial zoning would be priced differently from that in industrail zoning.|\n",
    "|Neighborhood|High|Definitely, neighborhood affects the price of a house|\n",
    "|OverallQual|High|Overall material and finish of a house matters in pricing|\n",
    "|OverallCond|High|Overall condition matters in pricing too|\n",
    "|1stFlrSF|High|First floor area basically tells us how big the house is in surface area, therefore, it matters|\n",
    "|2ndFlrSF|High|Same as first floor area|\n",
    "|GrLivArea|High|Same as the 1stFlrSF and 2ndFlrSF|\n",
    "|HouseStyle|Medium|We'd expect a different in pricing between 1Story and 2Story building|\n",
    "|TotBsmtSF|Medium|With all other factors constant, a house with a bigger basement would be more expensive|\n",
    "|Bedroom|Medium|For obvious reasons, this matters|\n",
    "|GarageCars|Medium|A house with a garage that can have more cars might be pricy|\n",
    "|GarageArea|Medium|The bigger the garage area, the more cars can pack in it. There might be multi-collinearity here|\n",
    "|PoolArea|Medium|The presense of a swimming pool hicks the house price|\n",
    "|MiscFeature|Medium|Depending on the Misc Feature, the price might be influence or not|"
   ]
  },
  {
   "cell_type": "markdown",
   "id": "e56553a3",
   "metadata": {},
   "source": [
    "### Explore\n",
    "\n",
    "    Firstly, we will start by conducting a Univariate Analysis/Study on the `SalePrice`. The purpose for this is\n",
    "    to get knowledge about variable - We will perform some basic analysis including Measures of Central Tendency,\n",
    "    and Measures of Variability."
   ]
  },
  {
   "cell_type": "markdown",
   "id": "cf5c21d8",
   "metadata": {},
   "source": [
    "**Univariate Analysis of `SalePrice`**"
   ]
  },
  {
   "cell_type": "markdown",
   "id": "4ee9066c",
   "metadata": {},
   "source": [
    "We will start by looking at the `Mean`, `Mode` and `Median`."
   ]
  },
  {
   "cell_type": "code",
   "execution_count": 11,
   "id": "c3d8bf3c",
   "metadata": {},
   "outputs": [
    {
     "data": {
      "text/html": [
       "<div>\n",
       "<style scoped>\n",
       "    .dataframe tbody tr th:only-of-type {\n",
       "        vertical-align: middle;\n",
       "    }\n",
       "\n",
       "    .dataframe tbody tr th {\n",
       "        vertical-align: top;\n",
       "    }\n",
       "\n",
       "    .dataframe thead th {\n",
       "        text-align: right;\n",
       "    }\n",
       "</style>\n",
       "<table border=\"1\" class=\"dataframe\">\n",
       "  <thead>\n",
       "    <tr style=\"text-align: right;\">\n",
       "      <th></th>\n",
       "      <th>SalePrice</th>\n",
       "    </tr>\n",
       "  </thead>\n",
       "  <tbody>\n",
       "    <tr>\n",
       "      <th>mean</th>\n",
       "      <td>180921.19589</td>\n",
       "    </tr>\n",
       "    <tr>\n",
       "      <th>median</th>\n",
       "      <td>163000.00000</td>\n",
       "    </tr>\n",
       "    <tr>\n",
       "      <th>mode</th>\n",
       "      <td>140000.00000</td>\n",
       "    </tr>\n",
       "  </tbody>\n",
       "</table>\n",
       "</div>"
      ],
      "text/plain": [
       "           SalePrice\n",
       "mean    180921.19589\n",
       "median  163000.00000\n",
       "mode    140000.00000"
      ]
     },
     "execution_count": 11,
     "metadata": {},
     "output_type": "execute_result"
    }
   ],
   "source": [
    "sale_price = df['SalePrice']\n",
    "\n",
    "# Mode\n",
    "mode = stats.mode(sale_price, axis=None)\n",
    "mode_series = pd.Series(data={\"mode\": mode[0][0]})\n",
    "\n",
    "# Min, Max, Median Price\n",
    "agg = (\n",
    "    sale_price\n",
    "    .aggregate(['mean', 'median'])\n",
    "    .append(mode_series)\n",
    "    .to_frame()\n",
    ")\n",
    "\n",
    "agg.columns = [\"SalePrice\"]\n",
    "agg"
   ]
  },
  {
   "cell_type": "markdown",
   "id": "b022fbbd",
   "metadata": {},
   "source": [
    "    💡 The Mean, Median and Mode differ by about 20,000. This indicates the presense of outliers. Generally\n",
    "    thinking about it, we would expect a distribution for selling price where the majority of house fall within\n",
    "    a certain bracket and a few houses would be more expensive or less expensive.\n",
    "    \n",
    "    Let's inspect a few distribution to check this further."
   ]
  },
  {
   "cell_type": "code",
   "execution_count": 12,
   "id": "8821b3e9",
   "metadata": {},
   "outputs": [
    {
     "data": {
      "image/png": "[encoded data removed]",
      "text/plain": [
       "<Figure size 720x360 with 1 Axes>"
      ]
     },
     "metadata": {},
     "output_type": "display_data"
    }
   ],
   "source": [
    "# `SalePrice` Distribution\n",
    "utils.plot_distribution_hist(sale_price, \"House Price Frequency Distribution\", \"Sale Price\", \"Count\")"
   ]
  },
  {
   "cell_type": "code",
   "execution_count": 13,
   "id": "02db8a27",
   "metadata": {},
   "outputs": [
    {
     "data": {
      "image/png": "[encoded data removed]",
      "text/plain": [
       "<Figure size 720x288 with 1 Axes>"
      ]
     },
     "metadata": {},
     "output_type": "display_data"
    }
   ],
   "source": [
    "utils.plot_distribution_boxplot(sale_price, \"House Price Distribution\", \"Sale Price\")"
   ]
  },
  {
   "cell_type": "markdown",
   "id": "a2d8d5b6",
   "metadata": {},
   "source": [
    "* `SalePrice` is not normally distribution, as we confirmed earlier by looking at the Mean, Mode and Median.\n",
    "  Ideally, `SalePrice` should be normally distributed; mean, mode and median should be equal.\n",
    "* `SalePrice` is right-skewed\n",
    "* In the boxplot, we observe the presense of outlier houses\n",
    "    * 75% of the houses had a selling price less than ~220,000 USD.\n",
    "    * 50% of the houses had a selling price less than the median (163,000 USD)\n",
    "    \n",
    "* 🎯 Going forward, we will have to deal with outliers; remove houses with selling prices that are way above\n",
    "  the average houses.\n",
    "* 🎯 We will also have to deal with the distribution to make sure it is normally distributed.\n",
    "    "
   ]
  },
  {
   "cell_type": "markdown",
   "id": "ee394adf",
   "metadata": {},
   "source": [
    "What's the difference between the least and most expensive house?"
   ]
  },
  {
   "cell_type": "code",
   "execution_count": 19,
   "id": "08d18069",
   "metadata": {},
   "outputs": [
    {
     "name": "stdout",
     "output_type": "stream",
     "text": [
      "Range: $720100\n"
     ]
    }
   ],
   "source": [
    "print(\"Range: ${}\".format(sale_price.max() - sale_price.min()))"
   ]
  },
  {
   "cell_type": "markdown",
   "id": "5eebb897",
   "metadata": {},
   "source": [
    "`Analyze Numerical Features`"
   ]
  },
  {
   "cell_type": "markdown",
   "id": "5ee81cf4",
   "metadata": {},
   "source": [
    "**SalePrice vs TotalBsmtSF**"
   ]
  },
  {
   "cell_type": "code",
   "execution_count": null,
   "id": "c27a3a4c",
   "metadata": {},
   "outputs": [],
   "source": [
    "utils.plot_scatter_plot(\n",
    "    x=df['TotalBsmtSF'], \n",
    "    y=sale_price, \n",
    "    title=\"House Sale Price ($) vs Total Basement Area (sq)\",\n",
    "    xlabel=\"Total Basement Area (sq)\",\n",
    "    ylabel=\"Sale Price\"\n",
    ")"
   ]
  },
  {
   "cell_type": "code",
   "execution_count": null,
   "id": "f78a0d7e",
   "metadata": {},
   "outputs": [],
   "source": [
    "print(\"Sale Price vs TotalBsmtSF Correlation:\", round(sale_price.corr(df['TotalBsmtSF']), 2))"
   ]
  },
  {
   "cell_type": "markdown",
   "id": "c954a1a0",
   "metadata": {},
   "source": [
    "    Summary\n",
    "    \n",
    "    * A positive linear-relationship exists between sale price (USD) and total basement area (sq); As the total\n",
    "    basement area increases, so does the house sale price. \n",
    "    * We observe one house whose total basement area was higher than the rest, but had a selling price close to\n",
    "    USD200,000"
   ]
  },
  {
   "cell_type": "markdown",
   "id": "b74a6b33",
   "metadata": {},
   "source": [
    "**Sale Price vs 1stFlrSF**"
   ]
  },
  {
   "cell_type": "code",
   "execution_count": null,
   "id": "f97fa0e1",
   "metadata": {
    "scrolled": false
   },
   "outputs": [],
   "source": [
    "# utils.plot_scatter_plot(\n",
    "#     x=df['1stFlrSF'],\n",
    "#     y=sale_price,\n",
    "#     title=\"House Sale Price ($) vs First Floor (sq)\",\n",
    "#     xlabel=\"First Floor (sq)\",\n",
    "#     ylabel=\"Sale Price ($)\"\n",
    "# )"
   ]
  },
  {
   "cell_type": "code",
   "execution_count": null,
   "id": "4723ba4f",
   "metadata": {},
   "outputs": [],
   "source": [
    "# print(\"Sale Price vs 1stFlrSF Correlation:\", round(sale_price.corr(df['1stFlrSF']), 2))"
   ]
  },
  {
   "cell_type": "markdown",
   "id": "fcb581de",
   "metadata": {},
   "source": [
    "    Summary\n",
    "    \n",
    "    * A positive linear-relationship exists between sale price and first floor (sq); the more first floor\n",
    "    - in square feet - the more the house sale price.\n",
    "    * We observe another house whose first floor (sq) was outlier and cost ~USD200,000. Is it the same house\n",
    "    seen in the previous analysis?"
   ]
  },
  {
   "cell_type": "code",
   "execution_count": null,
   "id": "e6bc26f6",
   "metadata": {},
   "outputs": [],
   "source": [
    "# df[df['1stFlrSF'] > 4000][['Id', '1stFlrSF', 'TotalBsmtSF']]"
   ]
  },
  {
   "cell_type": "markdown",
   "id": "1499bbc2",
   "metadata": {},
   "source": [
    "    * Yep. Is's the same house"
   ]
  },
  {
   "cell_type": "markdown",
   "id": "912fdf3d",
   "metadata": {},
   "source": [
    "**Sale Price vs 2stFlrSF**"
   ]
  },
  {
   "cell_type": "code",
   "execution_count": null,
   "id": "756b3bef",
   "metadata": {},
   "outputs": [],
   "source": [
    "utils.plot_scatter_plot(\n",
    "    x=df['2ndFlrSF'],\n",
    "    y=sale_price,\n",
    "    title=\"House Sale Price ($) vs First Floor (sq)\",\n",
    "    xlabel=\"Second Floor (sq)\",\n",
    "    ylabel=\"Sale Price ($)\"\n",
    ")"
   ]
  },
  {
   "cell_type": "code",
   "execution_count": null,
   "id": "bf1b8a31",
   "metadata": {},
   "outputs": [],
   "source": [
    "print(\"Sale Price vs 2ndFlrSF Correlation:\", round(sale_price.corr(df['2ndFlrSF']), 2))"
   ]
  },
  {
   "cell_type": "markdown",
   "id": "9954160d",
   "metadata": {},
   "source": [
    "    Summary:\n",
    "    \n",
    "    * The scattter plot shows a positive linear-relationship between sale price and second floor (sq); \n",
    "    as the second floor area increases, so does the house selling price.\n",
    "    * The correlation is at 0.32\n",
    "    * We observe a number of houses whose second floor area (sq) is zero; perhaps these houses didn't have\n",
    "    a second floor."
   ]
  },
  {
   "cell_type": "code",
   "execution_count": null,
   "id": "c8cae326",
   "metadata": {},
   "outputs": [],
   "source": [
    "# Inspect Houses with a value of 0 on 2ndFlrSF\n",
    "df[df['2ndFlrSF'] == 0].shape"
   ]
  },
  {
   "cell_type": "markdown",
   "id": "593fe8f7",
   "metadata": {},
   "source": [
    "**Sale Price vs GrLivArea**"
   ]
  },
  {
   "cell_type": "code",
   "execution_count": null,
   "id": "8b983280",
   "metadata": {},
   "outputs": [],
   "source": [
    "utils.plot_scatter_plot(\n",
    "    x=df[\"GrLivArea\"],\n",
    "    y=sale_price,\n",
    "    title=\"House Sale Price vs Above Grade Living Area (sq)\",\n",
    "    xlabel=\"Above Ground Living Area\",\n",
    "    ylabel=\"Sale Price\"\n",
    ")"
   ]
  },
  {
   "cell_type": "code",
   "execution_count": null,
   "id": "ee3a9d30",
   "metadata": {},
   "outputs": [],
   "source": [
    "print(\"Sale Price vs Above Ground Living Area Correlation:\", round(sale_price.corr(df['GrLivArea']), 2))"
   ]
  },
  {
   "cell_type": "markdown",
   "id": "8080b427",
   "metadata": {},
   "source": [
    "    Summary:\n",
    "    \n",
    "    * Above Ground Living Area affects Sale Price such that as the area increases, so does the Sale Price; this\n",
    "    indicated a positive linear-relationship between the two variables.\n",
    "    * Again, the scatter plot shows outlier houses with an area above 4,500sq yet their sale price was less than\n",
    "    USD200,000."
   ]
  },
  {
   "cell_type": "markdown",
   "id": "e1ceb9b6",
   "metadata": {},
   "source": [
    "**Sale Price vs GarageArea**"
   ]
  },
  {
   "cell_type": "code",
   "execution_count": null,
   "id": "81b55f07",
   "metadata": {},
   "outputs": [],
   "source": [
    "utils.plot_scatter_plot(\n",
    "    x=df[\"GarageArea\"],\n",
    "    y=sale_price,\n",
    "    title=\"House Sale Price vs Garage Area (sq)\",\n",
    "    xlabel=\"Garage Area (sq)\",\n",
    "    ylabel=\"Sale Price\"\n",
    ")"
   ]
  },
  {
   "cell_type": "code",
   "execution_count": null,
   "id": "f39e96d8",
   "metadata": {},
   "outputs": [],
   "source": [
    "print(\"Correlation: Sale Price vs Garage Area:\", round(sale_price.corr(df[\"GarageArea\"]), 2))"
   ]
  },
  {
   "cell_type": "markdown",
   "id": "5e1d028e",
   "metadata": {},
   "source": [
    "    Summary\n",
    "    \n",
    "    * Sale Price and Garage Area show a positive linear-relationship between them such that if the Sale Price\n",
    "    increases as Garage Area (Space) increases.\n",
    "    * A correlation of 0.62\n",
    "    * Further, we observe a number of houses with Garage Area of 0; these might be houses that don't have a \n",
    "    garage."
   ]
  },
  {
   "cell_type": "markdown",
   "id": "cffb2706",
   "metadata": {},
   "source": [
    "**Sale Price vs PoolArea**"
   ]
  },
  {
   "cell_type": "code",
   "execution_count": null,
   "id": "9d07f77e",
   "metadata": {},
   "outputs": [],
   "source": [
    "utils.plot_scatter_plot(\n",
    "    x=df[\"PoolArea\"],\n",
    "    y=sale_price,\n",
    "    title=\"House Sale Price vs Pool Area (sq)\",\n",
    "    xlabel=\"Pool Area (sq)\",\n",
    "    ylabel=\"Sale Price\"\n",
    ")"
   ]
  },
  {
   "cell_type": "markdown",
   "id": "072fd275",
   "metadata": {},
   "source": [
    "    Summary\n",
    "    \n",
    "    * Interestingly, the majority of houses don't have a swimming pool; this might be indicated by the presense\n",
    "    of a zero as the value for the majority of houses.\n",
    "    * No relationship occurs between these two variables"
   ]
  },
  {
   "cell_type": "code",
   "execution_count": null,
   "id": "24f43863",
   "metadata": {},
   "outputs": [],
   "source": [
    "# df[\"PoolQC\"].value_counts()"
   ]
  },
  {
   "cell_type": "code",
   "execution_count": null,
   "id": "32d2d255",
   "metadata": {},
   "outputs": [],
   "source": [
    "# df[\"PoolQC\"].isnull().sum()"
   ]
  },
  {
   "cell_type": "markdown",
   "id": "b1382234",
   "metadata": {},
   "source": [
    "    * `PoolArea` contains 1,453 missing values; we drop this feature before fitting a model 🎯"
   ]
  },
  {
   "cell_type": "markdown",
   "id": "6d709dcf",
   "metadata": {},
   "source": [
    "`Analyze Categorical Features`"
   ]
  },
  {
   "cell_type": "markdown",
   "id": "5b5a48e6",
   "metadata": {},
   "source": [
    "**Sale Price vs Neighborhood**"
   ]
  },
  {
   "cell_type": "code",
   "execution_count": null,
   "id": "6f0c2d46",
   "metadata": {},
   "outputs": [],
   "source": [
    "nghbrhood_counts = df[\"Neighborhood\"].value_counts(normalize=True).sort_values()"
   ]
  },
  {
   "cell_type": "code",
   "execution_count": null,
   "id": "c2cb26f8",
   "metadata": {},
   "outputs": [],
   "source": [
    "utils.plot_bar(\n",
    "    data=nghbrhood_counts,\n",
    "    title=\"Neighborhood Distribution\",\n",
    "    ylabel=\"Neighborhood\",\n",
    "    ticks_range=np.arange(0.0, 0.18, 0.02),\n",
    "    labels=[\"0%\", \"2%\", \"4%\", \"6%\", \"8%\", \"10%\", \"12%\", \"14%\", \"16%\"]\n",
    ")"
   ]
  },
  {
   "cell_type": "code",
   "execution_count": null,
   "id": "79c3af4f",
   "metadata": {},
   "outputs": [],
   "source": [
    "utils.plot_box(\n",
    "    data=df, \n",
    "    x=\"SalePrice\", \n",
    "    y=\"Neighborhood\", \n",
    "    title=\"Neighborhood vs Sale Price ($)\",\n",
    "    xlabel=\"Sale Price ($)\",\n",
    "    ylabel=\"Neighborhood\"\n",
    ")"
   ]
  },
  {
   "cell_type": "code",
   "execution_count": null,
   "id": "ff39f1d4",
   "metadata": {},
   "outputs": [],
   "source": [
    "fig, ax = plt.subplots(figsize=(6, 8))\n",
    "\n",
    "# Barplot\n",
    "df.groupby(by=\"Neighborhood\")[\"SalePrice\"].mean().sort_values().plot(kind=\"barh\")\n",
    "\n",
    "# Labels\n",
    "plt.title(\"Neighborhoods Mean House Prices ($)\")\n",
    "plt.ylabel(\"Neighborhood\")\n",
    "plt.xlabel(\"Mean Sale Price ($)\")\n",
    "\n",
    "# Add x-grid lines\n",
    "plt.grid(axis=\"x\", linewidth=0.5, linestyle=\"--\");"
   ]
  },
  {
   "cell_type": "markdown",
   "id": "72d412f8",
   "metadata": {},
   "source": [
    "    Summary\n",
    "    \n",
    "    * Neighborhood affects the sale price\n",
    "    * Depending on the neighborhood a house is in, that neighborhood has a mean selling price; e.g. The avg\n",
    "    selling price of a house in NoRidge - `Northridge` is close to USD350,000 where as that of a house in\n",
    "    MeadowV `Meadow Village` is close to USD100,000."
   ]
  },
  {
   "cell_type": "markdown",
   "id": "b7078c17",
   "metadata": {},
   "source": [
    "**SalePrice vs HouseStyle**"
   ]
  },
  {
   "cell_type": "code",
   "execution_count": null,
   "id": "f9917456",
   "metadata": {},
   "outputs": [],
   "source": [
    "# What type of styles do the houses have?\n",
    "housestyle = df[\"HouseStyle\"].value_counts(normalize=True).sort_values()\n",
    "\n",
    "utils.plot_bar(\n",
    "    data=housestyle, \n",
    "    title=\"Housestyle Distribution\", \n",
    "    ylabel=\"Housestyle\",\n",
    "    ticks_range=np.arange(0.0, round(housestyle.max() + 0.1, 2), 0.1),\n",
    "    labels=[\"0%\", \"10%\", \"20%\", \"30%\", \"40%\", \"50%\"],\n",
    "    figsize=(6, 6)\n",
    ")"
   ]
  },
  {
   "cell_type": "code",
   "execution_count": null,
   "id": "eb81bd4f",
   "metadata": {},
   "outputs": [],
   "source": [
    "utils.plot_box(df, \"SalePrice\", \"HouseStyle\", \"House Style vs Sale Price ($)\", \"Sale Price (%)\", \"House Style\")"
   ]
  },
  {
   "cell_type": "markdown",
   "id": "362f51b2",
   "metadata": {},
   "source": [
    "    Summary\n",
    "    \n",
    "    * It seems `House Style` also affects the Sale Price"
   ]
  },
  {
   "cell_type": "markdown",
   "id": "3d588c03",
   "metadata": {},
   "source": [
    "**SalePrice vs OverallCond**"
   ]
  },
  {
   "cell_type": "code",
   "execution_count": null,
   "id": "f08f376e",
   "metadata": {},
   "outputs": [],
   "source": [
    "# Change dtype\n",
    "df[\"OverallCond\"] = df[\"OverallCond\"].astype('category')\n",
    "\n",
    "overall_cond = df[\"OverallCond\"].value_counts(normalize=True).sort_values()\n",
    "overall_cond"
   ]
  },
  {
   "cell_type": "code",
   "execution_count": null,
   "id": "42f964db",
   "metadata": {},
   "outputs": [],
   "source": [
    "utils.plot_bar(\n",
    "    overall_cond, \n",
    "    \"Overall Condition Distribution\",\n",
    "    \"Overall Condition\",\n",
    "    ticks_range=np.arange(0.0, overall_cond.max() + 0.1, 0.1),\n",
    "    labels=[\"0%\", \"10%\", \"20%\", \"30%\", \"40%\", \"50%\", \"60%\"],\n",
    "    figsize=(6, 6)\n",
    ")"
   ]
  },
  {
   "cell_type": "code",
   "execution_count": null,
   "id": "a7ec4fbb",
   "metadata": {},
   "outputs": [],
   "source": [
    "utils.plot_box(\n",
    "    data=df, \n",
    "    y=\"OverallCond\", \n",
    "    x=\"SalePrice\", \n",
    "    title=\"Overall Condition vs Sale Price ($)\", \n",
    "    xlabel=\"Sale Price ($)\", \n",
    "    ylabel=\"Overall Condition\"\n",
    ")"
   ]
  },
  {
   "cell_type": "markdown",
   "id": "65a5c1e3",
   "metadata": {},
   "source": [
    "    Summary\n",
    "    \n",
    "    * The better the house's condition, the higher the avg selling price"
   ]
  },
  {
   "cell_type": "markdown",
   "id": "8d912975",
   "metadata": {},
   "source": [
    "**SalePrice vs Bedroom**"
   ]
  },
  {
   "cell_type": "code",
   "execution_count": null,
   "id": "6300233e",
   "metadata": {},
   "outputs": [],
   "source": [
    "df[\"BedroomAbvGr\"] = df[\"BedroomAbvGr\"].astype('category')\n",
    "\n",
    "bedroom = df[\"BedroomAbvGr\"].value_counts(normalize=True).sort_values()\n",
    "bedroom"
   ]
  },
  {
   "cell_type": "code",
   "execution_count": null,
   "id": "10f80465",
   "metadata": {},
   "outputs": [],
   "source": [
    "utils.plot_bar(\n",
    "    bedroom, \n",
    "    \"Bedrooms Distribution\",\n",
    "    \"Bedrooms\",\n",
    "    ticks_range=np.arange(0.0, overall_cond.max() + 0.1, 0.1),\n",
    "    labels=[\"0%\", \"10%\", \"20%\", \"30%\", \"40%\", \"50%\", \"60%\"],\n",
    "    figsize=(6, 6)\n",
    ")"
   ]
  },
  {
   "cell_type": "code",
   "execution_count": null,
   "id": "80f04ecb",
   "metadata": {},
   "outputs": [],
   "source": [
    "utils.plot_box(\n",
    "    data=df, \n",
    "    y=\"BedroomAbvGr\", \n",
    "    x=\"SalePrice\", \n",
    "    title=\"Bedrooms vs Sale Price ($)\", \n",
    "    xlabel=\"Sale Price ($)\", \n",
    "    ylabel=\"Bedrooms\"\n",
    ")"
   ]
  },
  {
   "cell_type": "markdown",
   "id": "57aff354",
   "metadata": {},
   "source": [
    "    Summary\n",
    "    \n",
    "    * 75% of houses have 2 or 3 bedrooms above ground; 25% and 50% of the houses are 2-bedrooms and 3-bedrooms,\n",
    "    respectively.\n",
    "    * It looks like the number of bedrooms above ground doesn't really influence the house sale price."
   ]
  },
  {
   "cell_type": "markdown",
   "id": "03afe910",
   "metadata": {},
   "source": [
    "**SalePrice vs GarageCars**"
   ]
  },
  {
   "cell_type": "code",
   "execution_count": null,
   "id": "9969790d",
   "metadata": {},
   "outputs": [],
   "source": [
    "df[\"GarageCars\"] = df[\"GarageCars\"].astype(\"category\")\n",
    "\n",
    "garage_car_capacity = df[\"GarageCars\"].value_counts(normalize=True).sort_values()\n",
    "garage_car_capacity"
   ]
  },
  {
   "cell_type": "code",
   "execution_count": null,
   "id": "9d0a2d3e",
   "metadata": {},
   "outputs": [],
   "source": [
    "# Size of Garage (Car Capacity) Distribution\n",
    "utils.plot_bar(\n",
    "    garage_car_capacity, \n",
    "    \"Garage Car Capacity Distribution\",\n",
    "    \"Garage Car Capacity\",\n",
    "    ticks_range=np.arange(0.0, overall_cond.max() + 0.1, 0.1),\n",
    "    labels=[\"0%\", \"10%\", \"20%\", \"30%\", \"40%\", \"50%\", \"60%\"],\n",
    "    figsize=(6, 6)\n",
    ")"
   ]
  },
  {
   "cell_type": "code",
   "execution_count": null,
   "id": "1702c3f3",
   "metadata": {},
   "outputs": [],
   "source": [
    "utils.plot_box(\n",
    "    data=df, \n",
    "    y=\"GarageCars\", \n",
    "    x=\"SalePrice\", \n",
    "    title=\"Bedrooms vs Sale Price ($)\", \n",
    "    xlabel=\"Sale Price ($)\", \n",
    "    ylabel=\"Bedrooms\"\n",
    ")"
   ]
  },
  {
   "cell_type": "markdown",
   "id": "4f59c04f",
   "metadata": {},
   "source": [
    "    Summary\n",
    "    \n",
    "    * 50% of houses have a garage with a capacity of 2 cars\n",
    "    * It seems the capacity of the garage influences the sale price of a house; however, we observe that\n",
    "    as a house's garage car capacity increases from the 0 to 3, so does the sale price of the house.\n",
    "    * In the visual, we see that the selling price of houses with a garage car capacity of 4 is slightly doesn't\n",
    "    follow the trend; looking at the distribution, it looks more like there are not many houses with this\n",
    "    car capacity and that which was available had a price that was slightly lower."
   ]
  },
  {
   "cell_type": "code",
   "execution_count": null,
   "id": "6933c13f",
   "metadata": {},
   "outputs": [],
   "source": [
    "# Houses with a Garage Car Capacity of 4\n",
    "df[df[\"GarageCars\"] == 4]"
   ]
  },
  {
   "cell_type": "markdown",
   "id": "24cf0d8c",
   "metadata": {},
   "source": [
    "**Correlation Matrix**"
   ]
  },
  {
   "cell_type": "markdown",
   "id": "3c44cac7",
   "metadata": {},
   "source": [
    "    Here, we will explore the relationships in our data by calculating the correlation between them. This will\n",
    "    enable us to see which features influence `SalePrice` and how, and which features are correlated with each\n",
    "    other."
   ]
  },
  {
   "cell_type": "code",
   "execution_count": null,
   "id": "bd288c01",
   "metadata": {},
   "outputs": [],
   "source": [
    "# Correlation\n",
    "corr = df.corr()"
   ]
  },
  {
   "cell_type": "code",
   "execution_count": null,
   "id": "82c579ec",
   "metadata": {},
   "outputs": [],
   "source": [
    "# Draw Axis\n",
    "fig, ax = plt.subplots(figsize=(12, 10))\n",
    "\n",
    "# HeatMap\n",
    "sns.heatmap(corr, vmax=.8, square=True);"
   ]
  },
  {
   "cell_type": "markdown",
   "id": "36d94d72",
   "metadata": {},
   "source": [
    "    Summary\n",
    "    \n",
    "    * From a first glass, we see that `TotalBsmtSF` and `1stFlrSF` are highly correlated with each other; \n",
    "    multi-collinearity exists here. We can drop-off the feature with the smallest correlation between the two.\n",
    "    * We also observe multi-collinearity on the features `OverallQual` <> `YearBuilt.` This makes sense; the\n",
    "    overall quality of a house correlates with the year it was built; we'd expect a house built in 2022 to be \n",
    "    of good quality compared that built in the year 1990.\n",
    "    \n",
    "    * We also observe that SalePrice is correlated with `OverallQual`, `TotalBsmtSF`, `GarageArea`, \n",
    "    and `GrLivArea` - features we identified in our initial analysis."
   ]
  },
  {
   "cell_type": "code",
   "execution_count": null,
   "id": "7e10be62",
   "metadata": {},
   "outputs": [],
   "source": [
    "# Pick 10 highest correlated features\n",
    "cols = corr.nlargest(10, 'SalePrice')[\"SalePrice\"].index\n",
    "# Calculate corr among those features\n",
    "sale_price_top10_corr = df[cols].corr()\n",
    "\n",
    "# Draw Axis\n",
    "fig, ax = plt.subplots(figsize=(10, 8))\n",
    "# Heatmap\n",
    "sns.heatmap(sale_price_top10_corr, annot=True)\n",
    "plt.show();"
   ]
  },
  {
   "cell_type": "markdown",
   "id": "22619a18",
   "metadata": {},
   "source": [
    "    The following are the 10 most correlated features:\n",
    "    \n",
    "    * `OverallQual`, `GrLivArea` and `GarageArea` are the most correlated features with `SalePrice`.\n",
    "    * `GrLivArea` <> `TotRmsAbvGrd` and `TotalBsmtSF` <> `1stFlrSF` are correlated between themselves; this\n",
    "    indicates multi-collinearity. Therefore, we remove the least correlated features to `SalePrice` in the\n",
    "    pairs."
   ]
  },
  {
   "cell_type": "markdown",
   "id": "79a87c85",
   "metadata": {},
   "source": [
    "**Scatter plots between `SalePrice` and correlated variables**"
   ]
  },
  {
   "cell_type": "code",
   "execution_count": null,
   "id": "4d39768b",
   "metadata": {},
   "outputs": [],
   "source": [
    "sns.set()\n",
    "\n",
    "# Most correlated features\n",
    "corr_feats = [\"SalePrice\", \"OverallQual\", \"GrLivArea\", \"GarageArea\", \"TotalBsmtSF\", \"FullBath\", \"YearRemodAdd\"]\n",
    "# Pairplots\n",
    "sns.pairplot(df[corr_feats]);"
   ]
  },
  {
   "cell_type": "markdown",
   "id": "580f4093",
   "metadata": {},
   "source": [
    "**Missing Data**\n",
    "\n",
    "- How prevelant is the missing data?\n",
    "- Is missing data random or does it have a pattern?"
   ]
  },
  {
   "cell_type": "code",
   "execution_count": null,
   "id": "09693142",
   "metadata": {},
   "outputs": [],
   "source": [
    "# Number of missing values per column\n",
    "total = df.isna().sum().sort_values(ascending=False)\n",
    "# Percent of missing values per column\n",
    "percent = ((df.isna().sum() / df.isna().count())).sort_values(ascending=False)\n",
    "\n",
    "# Missing Data: DF\n",
    "missing_data = pd.DataFrame(data={\n",
    "    \"Total\": total,\n",
    "    \"Percent\": percent\n",
    "})\n",
    "\n",
    "missing_data.head(20)"
   ]
  },
  {
   "cell_type": "markdown",
   "id": "f84b8e58",
   "metadata": {},
   "source": [
    "    Analysis\n",
    "    \n",
    "    * The features `PoolQC`, `MiscFeature`, `Alley`, etc have over 80% of the data missing; these features should\n",
    "    be dropped from other data.\n",
    "    * The garage features `GarageCond`, `GarageQual`, etc are missing 81 data points; it could be that the houses\n",
    "    corresponding to these features didn't have a garage.\n",
    "    * Same for the basement and masonry features.\n",
    "    * Electical is only missing 1 data point, so we will remove this observations\n",
    "    \n",
    "    In general, if a feature has more than 15% of data missing, we will delete it. Otherwise, we will keep it,\n",
    "    delete entries with those missing data points or try out imputation strategies."
   ]
  },
  {
   "cell_type": "code",
   "execution_count": null,
   "id": "95d46685",
   "metadata": {},
   "outputs": [],
   "source": [
    "# percent_missing_data = (df.isna().sum() / df.isna().count()).sort_values(ascending=False)\n",
    "# missing_data_cols = percent_missing_data[percent_missing_data > 0.15].index\n",
    "# df.drop(columns=missing_data_cols)"
   ]
  },
  {
   "cell_type": "code",
   "execution_count": null,
   "id": "329eaba2",
   "metadata": {},
   "outputs": [],
   "source": [
    "# df.dropna(inplace=True)"
   ]
  },
  {
   "cell_type": "markdown",
   "id": "132f16ab",
   "metadata": {},
   "source": [
    "**Outliers**\n",
    "\n",
    "Outliers are data points that appear extreme or outside the pattern compared to all other data-points in\n",
    "a given variable. When building a model with data containing outliers, the model can be greatly affected\n",
    "in performance; model a relationship that is not the case.\n",
    "\n",
    "Therefore, it's important to detect and deal with outliers. Their are several methods for dealing with\n",
    "outliers (Inter-Quartile Range, Standard Deviation, Z-Score, etc). However, in this analysis, we will do\n",
    "a quick analysis through the standard deviation of `SalePrice` and a set of scatter-plots.\n",
    "\n",
    "[Outlier Detection](https://towardsdatascience.com/outlier-detection-part1-821d714524c)"
   ]
  },
  {
   "cell_type": "markdown",
   "id": "bd062834",
   "metadata": {},
   "source": [
    "`SalePrice Univariate Analysis`"
   ]
  },
  {
   "cell_type": "code",
   "execution_count": null,
   "id": "16f646b7",
   "metadata": {},
   "outputs": [],
   "source": [
    "sale_price.head()"
   ]
  },
  {
   "cell_type": "code",
   "execution_count": null,
   "id": "a41a63aa",
   "metadata": {},
   "outputs": [],
   "source": [
    "std_scaler = StandardScaler() # Instantiate StandardScaler\n",
    "saleprice_scaled = std_scaler.fit_transform(df.loc[:, [\"SalePrice\"]]) # Transform data to have a mean=0 and std=1\n",
    "\n",
    "# Top/Bottom 10 Distributions\n",
    "lower = sorted(saleprice_scaled[:, 0])[:10]\n",
    "upper = sorted(saleprice_scaled[:, 0])[-10:]"
   ]
  },
  {
   "cell_type": "code",
   "execution_count": null,
   "id": "81f68da1",
   "metadata": {},
   "outputs": [],
   "source": [
    "print(\"Lower Range Distribution\")\n",
    "print(np.array(lower))"
   ]
  },
  {
   "cell_type": "code",
   "execution_count": null,
   "id": "61c8b401",
   "metadata": {},
   "outputs": [],
   "source": [
    "print(\"Upper Range Distribution\")\n",
    "print(np.array(upper))"
   ]
  },
  {
   "cell_type": "code",
   "execution_count": null,
   "id": "d11b59bb",
   "metadata": {},
   "outputs": [],
   "source": [
    "fig, ax = plt.subplots(figsize=(8, 5))\n",
    "\n",
    "# Histogram\n",
    "pd.Series(saleprice_scaled[:, 0]).plot(kind=\"hist\", bins=20)\n",
    "\n",
    "# Labels\n",
    "plt.title(\"House Sale Price Distribution (Standardized Values)\")\n",
    "plt.ylabel(\"Frequency\")\n",
    "plt.xlabel(\"Sale Price (Standardized)\");"
   ]
  },
  {
   "cell_type": "markdown",
   "id": "3b799a77",
   "metadata": {},
   "source": [
    "    Observations\n",
    "    \n",
    "    * The majority of houses are similar; their standardized value is close to zero.\n",
    "    * A small number of houses have a standard deviation of 2; the upper range values\n",
    "      indicate the presense of outliers values; potentially going to 7 standard \n",
    "      deviations.\n",
    "    \n",
    "    * To deal with these, we can define a threshold, in-terms of standard deviations, \n",
    "      and remove any observations that are below or above that threshold.\n",
    "      E.g.\n",
    "      - Threshold = 2 Standard Deviations\n",
    "      - Remove any observations that are more than 2 standard deviations above or below\n",
    "        the mean."
   ]
  },
  {
   "cell_type": "code",
   "execution_count": null,
   "id": "3a20f16b",
   "metadata": {},
   "outputs": [],
   "source": [
    "threshold_std = 2 # Number of standard Deviations to cap values\n",
    "price_deviation = sale_price.std() * threshold_std # Calculate the price deviation\n",
    "\n",
    "lower_bound = sale_price.mean() - price_deviation\n",
    "upper_bound = sale_price.mean() + price_deviation\n",
    "\n",
    "print(\"Upper bound:\", upper_bound)\n",
    "print(\"Lower bound:\", lower_bound)"
   ]
  },
  {
   "cell_type": "code",
   "execution_count": null,
   "id": "f1cc3d8c",
   "metadata": {},
   "outputs": [],
   "source": [
    "# Filter data to remove observations below the lower bound and above the upper bound\n",
    "# df = df[(df[\"SalePrice\"] > lower_bound) & (df[\"SalePrice\"] < upper_bound)]\n",
    "df.shape"
   ]
  },
  {
   "cell_type": "markdown",
   "id": "65cde9e3",
   "metadata": {},
   "source": [
    "`SalePrice Bivariate Analysis`"
   ]
  },
  {
   "cell_type": "code",
   "execution_count": null,
   "id": "758ca66b",
   "metadata": {},
   "outputs": [],
   "source": [
    "# SalePrice vs GrLivArea\n",
    "utils.plot_scatter_plot(\n",
    "    x=df[\"GrLivArea\"],\n",
    "    y=df[\"SalePrice\"],\n",
    "    title=\"House Sale Price vs Above Grade Living Area (sq)\",\n",
    "    xlabel=\"Above Ground Living Area\",\n",
    "    ylabel=\"Sale Price\"\n",
    ")"
   ]
  },
  {
   "cell_type": "markdown",
   "id": "f3183bdf",
   "metadata": {},
   "source": [
    "    Summary\n",
    "    * We see two outlier houses with `GrLivArea` values of above 4000 yet their house price is lower than\n",
    "      200,000 (USD).\n",
    "    * We also see two outlier houses with `SalePrice` above 700,000 (USD) and `GrLivArea` above 4000. Further,\n",
    "      we also see a couple of houses with sale prices slightly here. Note that these are the houses we observed\n",
    "      to have `price deviation` above two standard deviations from the mean. Here, we remove all houses with\n",
    "      `GrLivArea` 4000."
   ]
  },
  {
   "cell_type": "code",
   "execution_count": null,
   "id": "2e3caf4f",
   "metadata": {},
   "outputs": [],
   "source": [
    "print(\"Size of data before removing outliers:\", df.shape)\n",
    "\n",
    "# Filter data to remove outlier houses based on `GrLivArea`\n",
    "grlivarea_mask = df[\"GrLivArea\"] < 4000\n",
    "df = df[grlivarea_mask]\n",
    "\n",
    "print(\"Size of data after removing outliers:\", df.shape)"
   ]
  },
  {
   "cell_type": "code",
   "execution_count": null,
   "id": "a5680a41",
   "metadata": {},
   "outputs": [],
   "source": [
    "# SalePrice vs TotalBsmtArea\n",
    "utils.plot_scatter_plot(\n",
    "    x=df['TotalBsmtSF'], \n",
    "    y=df[\"SalePrice\"], \n",
    "    title=\"House Sale Price ($) vs Total Basement Area (sq)\",\n",
    "    xlabel=\"Total Basement Area (sq)\",\n",
    "    ylabel=\"Sale Price\"\n",
    ")"
   ]
  },
  {
   "cell_type": "markdown",
   "id": "d734715f",
   "metadata": {},
   "source": [
    "    Summary\n",
    "    * We see a couple of outliers, but since the data points follow the trend, we will keep this."
   ]
  },
  {
   "cell_type": "markdown",
   "id": "5abef5fe",
   "metadata": {},
   "source": [
    "`Note:` We can perform this analysis on all variables, but here, we will limit our analysis to these two for reason to do with just learning the techniques."
   ]
  },
  {
   "cell_type": "code",
   "execution_count": null,
   "id": "07786769",
   "metadata": {},
   "outputs": [],
   "source": []
  }
 ],
 "metadata": {
  "kernelspec": {
   "display_name": "Python 3",
   "language": "python",
   "name": "python3"
  },
  "language_info": {
   "codemirror_mode": {
    "name": "ipython",
    "version": 3
   },
   "file_extension": ".py",
   "mimetype": "text/x-python",
   "name": "python",
   "nbconvert_exporter": "python",
   "pygments_lexer": "ipython3",
   "version": "3.8.8"
  }
 },
 "nbformat": 4,
 "nbformat_minor": 5
}
